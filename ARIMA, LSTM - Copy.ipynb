{
 "cells": [
  {
   "cell_type": "code",
   "execution_count": 71,
   "id": "f37d4619",
   "metadata": {},
   "outputs": [],
   "source": [
    "import pandas as pd\n",
    "import numpy as np\n",
    "import matplotlib.pyplot as plt\n",
    "import seaborn as sns\n",
    "import tensorflow as tf\n",
    "from sklearn.model_selection import train_test_split\n",
    "from statsmodels.tsa.arima.model import ARIMA\n",
    "#importing libraries\n",
    "from sklearn.metrics import mean_squared_error, mean_absolute_error, r2_score\n",
    "import math\n",
    "from statsmodels.graphics.tsaplots import plot_pacf\n",
    "from statsmodels.graphics.tsaplots import plot_acf\n",
    "from statsmodels.tsa.statespace.sarimax import SARIMAX\n",
    "from statsmodels.tsa.holtwinters import ExponentialSmoothing\n",
    "from statsmodels.tsa.stattools import adfuller\n",
    "import matplotlib.pyplot as plt\n",
    "from tqdm import tqdm_notebook\n",
    "import numpy as np\n",
    "import pandas as pd\n",
    "from itertools import product\n",
    "import warnings\n",
    "warnings.filterwarnings('ignore')"
   ]
  },
  {
   "cell_type": "code",
   "execution_count": 72,
   "id": "60a6be0e",
   "metadata": {},
   "outputs": [
    {
     "data": {
      "text/html": [
       "<div>\n",
       "<style scoped>\n",
       "    .dataframe tbody tr th:only-of-type {\n",
       "        vertical-align: middle;\n",
       "    }\n",
       "\n",
       "    .dataframe tbody tr th {\n",
       "        vertical-align: top;\n",
       "    }\n",
       "\n",
       "    .dataframe thead th {\n",
       "        text-align: right;\n",
       "    }\n",
       "</style>\n",
       "<table border=\"1\" class=\"dataframe\">\n",
       "  <thead>\n",
       "    <tr style=\"text-align: right;\">\n",
       "      <th></th>\n",
       "      <th>Area</th>\n",
       "      <th>Year</th>\n",
       "      <th>Unit</th>\n",
       "      <th>Value</th>\n",
       "      <th>Flag</th>\n",
       "      <th>Flag Description</th>\n",
       "    </tr>\n",
       "  </thead>\n",
       "  <tbody>\n",
       "    <tr>\n",
       "      <th>0</th>\n",
       "      <td>Afghanistan</td>\n",
       "      <td>1961</td>\n",
       "      <td>tonnes</td>\n",
       "      <td>319000.0</td>\n",
       "      <td>A</td>\n",
       "      <td>Official figure</td>\n",
       "    </tr>\n",
       "    <tr>\n",
       "      <th>1</th>\n",
       "      <td>Afghanistan</td>\n",
       "      <td>1962</td>\n",
       "      <td>tonnes</td>\n",
       "      <td>319000.0</td>\n",
       "      <td>A</td>\n",
       "      <td>Official figure</td>\n",
       "    </tr>\n",
       "    <tr>\n",
       "      <th>2</th>\n",
       "      <td>Afghanistan</td>\n",
       "      <td>1963</td>\n",
       "      <td>tonnes</td>\n",
       "      <td>319000.0</td>\n",
       "      <td>A</td>\n",
       "      <td>Official figure</td>\n",
       "    </tr>\n",
       "    <tr>\n",
       "      <th>3</th>\n",
       "      <td>Afghanistan</td>\n",
       "      <td>1964</td>\n",
       "      <td>tonnes</td>\n",
       "      <td>380000.0</td>\n",
       "      <td>A</td>\n",
       "      <td>Official figure</td>\n",
       "    </tr>\n",
       "    <tr>\n",
       "      <th>4</th>\n",
       "      <td>Afghanistan</td>\n",
       "      <td>1965</td>\n",
       "      <td>tonnes</td>\n",
       "      <td>380000.0</td>\n",
       "      <td>A</td>\n",
       "      <td>Official figure</td>\n",
       "    </tr>\n",
       "  </tbody>\n",
       "</table>\n",
       "</div>"
      ],
      "text/plain": [
       "          Area  Year    Unit     Value Flag Flag Description\n",
       "0  Afghanistan  1961  tonnes  319000.0    A  Official figure\n",
       "1  Afghanistan  1962  tonnes  319000.0    A  Official figure\n",
       "2  Afghanistan  1963  tonnes  319000.0    A  Official figure\n",
       "3  Afghanistan  1964  tonnes  380000.0    A  Official figure\n",
       "4  Afghanistan  1965  tonnes  380000.0    A  Official figure"
      ]
     },
     "execution_count": 72,
     "metadata": {},
     "output_type": "execute_result"
    }
   ],
   "source": [
    "df = pd.read_csv('Data/rice production across different countries from 1961 to 2021.csv')\n",
    "df.head()"
   ]
  },
  {
   "cell_type": "code",
   "execution_count": 3,
   "id": "2ff6f4e0",
   "metadata": {},
   "outputs": [
    {
     "name": "stdout",
     "output_type": "stream",
     "text": [
      "<class 'pandas.core.frame.DataFrame'>\n",
      "RangeIndex: 7324 entries, 0 to 7323\n",
      "Data columns (total 6 columns):\n",
      " #   Column            Non-Null Count  Dtype  \n",
      "---  ------            --------------  -----  \n",
      " 0   Area              7324 non-null   object \n",
      " 1   Year              7324 non-null   int64  \n",
      " 2   Unit              7324 non-null   object \n",
      " 3   Value             7324 non-null   float64\n",
      " 4   Flag              7324 non-null   object \n",
      " 5   Flag Description  7324 non-null   object \n",
      "dtypes: float64(1), int64(1), object(4)\n",
      "memory usage: 343.4+ KB\n"
     ]
    }
   ],
   "source": [
    "df.info()"
   ]
  },
  {
   "cell_type": "code",
   "execution_count": 5,
   "id": "8eb01ce1",
   "metadata": {},
   "outputs": [
    {
     "data": {
      "text/plain": [
       "Area                0\n",
       "Year                0\n",
       "Unit                0\n",
       "Value               0\n",
       "Flag                0\n",
       "Flag Description    0\n",
       "dtype: int64"
      ]
     },
     "execution_count": 5,
     "metadata": {},
     "output_type": "execute_result"
    }
   ],
   "source": [
    "df.isnull().sum()"
   ]
  },
  {
   "cell_type": "code",
   "execution_count": 4,
   "id": "7c0a141c",
   "metadata": {},
   "outputs": [
    {
     "data": {
      "text/plain": [
       "numpy.int64"
      ]
     },
     "execution_count": 4,
     "metadata": {},
     "output_type": "execute_result"
    }
   ],
   "source": [
    "type(df['Year'][0])"
   ]
  },
  {
   "cell_type": "code",
   "execution_count": 9,
   "id": "16793e8e",
   "metadata": {},
   "outputs": [
    {
     "data": {
      "text/plain": [
       "0      1961-01-01\n",
       "1      1962-01-01\n",
       "2      1963-01-01\n",
       "3      1964-01-01\n",
       "4      1965-01-01\n",
       "          ...    \n",
       "7319   2017-01-01\n",
       "7320   2018-01-01\n",
       "7321   2019-01-01\n",
       "7322   2020-01-01\n",
       "7323   2021-01-01\n",
       "Name: Year, Length: 7324, dtype: datetime64[ns]"
      ]
     },
     "execution_count": 9,
     "metadata": {},
     "output_type": "execute_result"
    }
   ],
   "source": [
    "dates = pd.to_datetime(\n",
    "                        df['Year'].astype(str)\n",
    "                       )\n",
    "dates"
   ]
  },
  {
   "cell_type": "code",
   "execution_count": 7,
   "id": "6ff0d9ee",
   "metadata": {},
   "outputs": [
    {
     "data": {
      "text/plain": [
       "pandas._libs.tslibs.timestamps.Timestamp"
      ]
     },
     "execution_count": 7,
     "metadata": {},
     "output_type": "execute_result"
    }
   ],
   "source": [
    "type(dates[0])"
   ]
  },
  {
   "cell_type": "code",
   "execution_count": 11,
   "id": "40f90b05",
   "metadata": {},
   "outputs": [
    {
     "data": {
      "text/html": [
       "<div>\n",
       "<style scoped>\n",
       "    .dataframe tbody tr th:only-of-type {\n",
       "        vertical-align: middle;\n",
       "    }\n",
       "\n",
       "    .dataframe tbody tr th {\n",
       "        vertical-align: top;\n",
       "    }\n",
       "\n",
       "    .dataframe thead th {\n",
       "        text-align: right;\n",
       "    }\n",
       "</style>\n",
       "<table border=\"1\" class=\"dataframe\">\n",
       "  <thead>\n",
       "    <tr style=\"text-align: right;\">\n",
       "      <th></th>\n",
       "      <th>ds</th>\n",
       "      <th>y</th>\n",
       "    </tr>\n",
       "  </thead>\n",
       "  <tbody>\n",
       "    <tr>\n",
       "      <th>0</th>\n",
       "      <td>1961-01-01</td>\n",
       "      <td>319000.00</td>\n",
       "    </tr>\n",
       "    <tr>\n",
       "      <th>1</th>\n",
       "      <td>1962-01-01</td>\n",
       "      <td>319000.00</td>\n",
       "    </tr>\n",
       "    <tr>\n",
       "      <th>2</th>\n",
       "      <td>1963-01-01</td>\n",
       "      <td>319000.00</td>\n",
       "    </tr>\n",
       "    <tr>\n",
       "      <th>3</th>\n",
       "      <td>1964-01-01</td>\n",
       "      <td>380000.00</td>\n",
       "    </tr>\n",
       "    <tr>\n",
       "      <th>4</th>\n",
       "      <td>1965-01-01</td>\n",
       "      <td>380000.00</td>\n",
       "    </tr>\n",
       "    <tr>\n",
       "      <th>...</th>\n",
       "      <td>...</td>\n",
       "      <td>...</td>\n",
       "    </tr>\n",
       "    <tr>\n",
       "      <th>7319</th>\n",
       "      <td>2017-01-01</td>\n",
       "      <td>1326.90</td>\n",
       "    </tr>\n",
       "    <tr>\n",
       "      <th>7320</th>\n",
       "      <td>2018-01-01</td>\n",
       "      <td>1342.47</td>\n",
       "    </tr>\n",
       "    <tr>\n",
       "      <th>7321</th>\n",
       "      <td>2019-01-01</td>\n",
       "      <td>1134.00</td>\n",
       "    </tr>\n",
       "    <tr>\n",
       "      <th>7322</th>\n",
       "      <td>2020-01-01</td>\n",
       "      <td>750.00</td>\n",
       "    </tr>\n",
       "    <tr>\n",
       "      <th>7323</th>\n",
       "      <td>2021-01-01</td>\n",
       "      <td>2908.00</td>\n",
       "    </tr>\n",
       "  </tbody>\n",
       "</table>\n",
       "<p>7324 rows × 2 columns</p>\n",
       "</div>"
      ],
      "text/plain": [
       "             ds          y\n",
       "0    1961-01-01  319000.00\n",
       "1    1962-01-01  319000.00\n",
       "2    1963-01-01  319000.00\n",
       "3    1964-01-01  380000.00\n",
       "4    1965-01-01  380000.00\n",
       "...         ...        ...\n",
       "7319 2017-01-01    1326.90\n",
       "7320 2018-01-01    1342.47\n",
       "7321 2019-01-01    1134.00\n",
       "7322 2020-01-01     750.00\n",
       "7323 2021-01-01    2908.00\n",
       "\n",
       "[7324 rows x 2 columns]"
      ]
     },
     "execution_count": 11,
     "metadata": {},
     "output_type": "execute_result"
    }
   ],
   "source": [
    "new = pd.DataFrame()\n",
    "new['ds'] = dates\n",
    "new['y'] = df['Value']\n",
    "new"
   ]
  },
  {
   "cell_type": "code",
   "execution_count": 25,
   "id": "8a4ebe8b",
   "metadata": {},
   "outputs": [
    {
     "data": {
      "text/html": [
       "<div>\n",
       "<style scoped>\n",
       "    .dataframe tbody tr th:only-of-type {\n",
       "        vertical-align: middle;\n",
       "    }\n",
       "\n",
       "    .dataframe tbody tr th {\n",
       "        vertical-align: top;\n",
       "    }\n",
       "\n",
       "    .dataframe thead th {\n",
       "        text-align: right;\n",
       "    }\n",
       "</style>\n",
       "<table border=\"1\" class=\"dataframe\">\n",
       "  <thead>\n",
       "    <tr style=\"text-align: right;\">\n",
       "      <th></th>\n",
       "      <th>y</th>\n",
       "    </tr>\n",
       "    <tr>\n",
       "      <th>ds</th>\n",
       "      <th></th>\n",
       "    </tr>\n",
       "  </thead>\n",
       "  <tbody>\n",
       "    <tr>\n",
       "      <th>1961-12-31</th>\n",
       "      <td>2.494167e+06</td>\n",
       "    </tr>\n",
       "    <tr>\n",
       "      <th>1962-12-31</th>\n",
       "      <td>2.680106e+06</td>\n",
       "    </tr>\n",
       "    <tr>\n",
       "      <th>1963-12-31</th>\n",
       "      <td>2.968427e+06</td>\n",
       "    </tr>\n",
       "    <tr>\n",
       "      <th>1964-12-31</th>\n",
       "      <td>3.170752e+06</td>\n",
       "    </tr>\n",
       "    <tr>\n",
       "      <th>1965-12-31</th>\n",
       "      <td>3.134230e+06</td>\n",
       "    </tr>\n",
       "    <tr>\n",
       "      <th>...</th>\n",
       "      <td>...</td>\n",
       "    </tr>\n",
       "    <tr>\n",
       "      <th>2017-12-31</th>\n",
       "      <td>7.663097e+06</td>\n",
       "    </tr>\n",
       "    <tr>\n",
       "      <th>2018-12-31</th>\n",
       "      <td>6.771557e+06</td>\n",
       "    </tr>\n",
       "    <tr>\n",
       "      <th>2019-12-31</th>\n",
       "      <td>6.699247e+06</td>\n",
       "    </tr>\n",
       "    <tr>\n",
       "      <th>2020-12-31</th>\n",
       "      <td>6.825269e+06</td>\n",
       "    </tr>\n",
       "    <tr>\n",
       "      <th>2021-12-31</th>\n",
       "      <td>6.956234e+06</td>\n",
       "    </tr>\n",
       "  </tbody>\n",
       "</table>\n",
       "<p>61 rows × 1 columns</p>\n",
       "</div>"
      ],
      "text/plain": [
       "                       y\n",
       "ds                      \n",
       "1961-12-31  2.494167e+06\n",
       "1962-12-31  2.680106e+06\n",
       "1963-12-31  2.968427e+06\n",
       "1964-12-31  3.170752e+06\n",
       "1965-12-31  3.134230e+06\n",
       "...                  ...\n",
       "2017-12-31  7.663097e+06\n",
       "2018-12-31  6.771557e+06\n",
       "2019-12-31  6.699247e+06\n",
       "2020-12-31  6.825269e+06\n",
       "2021-12-31  6.956234e+06\n",
       "\n",
       "[61 rows x 1 columns]"
      ]
     },
     "execution_count": 25,
     "metadata": {},
     "output_type": "execute_result"
    }
   ],
   "source": [
    "# Set year column as index\n",
    "new.set_index('ds', inplace=True)\n",
    "\n",
    "# Resample to annual frequency\n",
    "new = new.resample('A').mean()\n",
    "new"
   ]
  },
  {
   "cell_type": "code",
   "execution_count": 28,
   "id": "bbbc8f13",
   "metadata": {},
   "outputs": [
    {
     "data": {
      "text/html": [
       "<div>\n",
       "<style scoped>\n",
       "    .dataframe tbody tr th:only-of-type {\n",
       "        vertical-align: middle;\n",
       "    }\n",
       "\n",
       "    .dataframe tbody tr th {\n",
       "        vertical-align: top;\n",
       "    }\n",
       "\n",
       "    .dataframe thead th {\n",
       "        text-align: right;\n",
       "    }\n",
       "</style>\n",
       "<table border=\"1\" class=\"dataframe\">\n",
       "  <thead>\n",
       "    <tr style=\"text-align: right;\">\n",
       "      <th></th>\n",
       "      <th>y</th>\n",
       "      <th>ds</th>\n",
       "    </tr>\n",
       "    <tr>\n",
       "      <th>ds</th>\n",
       "      <th></th>\n",
       "      <th></th>\n",
       "    </tr>\n",
       "  </thead>\n",
       "  <tbody>\n",
       "    <tr>\n",
       "      <th>1961-12-31</th>\n",
       "      <td>2.494167e+06</td>\n",
       "      <td>1961-12-31</td>\n",
       "    </tr>\n",
       "    <tr>\n",
       "      <th>1962-12-31</th>\n",
       "      <td>2.680106e+06</td>\n",
       "      <td>1962-12-31</td>\n",
       "    </tr>\n",
       "    <tr>\n",
       "      <th>1963-12-31</th>\n",
       "      <td>2.968427e+06</td>\n",
       "      <td>1963-12-31</td>\n",
       "    </tr>\n",
       "    <tr>\n",
       "      <th>1964-12-31</th>\n",
       "      <td>3.170752e+06</td>\n",
       "      <td>1964-12-31</td>\n",
       "    </tr>\n",
       "    <tr>\n",
       "      <th>1965-12-31</th>\n",
       "      <td>3.134230e+06</td>\n",
       "      <td>1965-12-31</td>\n",
       "    </tr>\n",
       "    <tr>\n",
       "      <th>...</th>\n",
       "      <td>...</td>\n",
       "      <td>...</td>\n",
       "    </tr>\n",
       "    <tr>\n",
       "      <th>2017-12-31</th>\n",
       "      <td>7.663097e+06</td>\n",
       "      <td>2017-12-31</td>\n",
       "    </tr>\n",
       "    <tr>\n",
       "      <th>2018-12-31</th>\n",
       "      <td>6.771557e+06</td>\n",
       "      <td>2018-12-31</td>\n",
       "    </tr>\n",
       "    <tr>\n",
       "      <th>2019-12-31</th>\n",
       "      <td>6.699247e+06</td>\n",
       "      <td>2019-12-31</td>\n",
       "    </tr>\n",
       "    <tr>\n",
       "      <th>2020-12-31</th>\n",
       "      <td>6.825269e+06</td>\n",
       "      <td>2020-12-31</td>\n",
       "    </tr>\n",
       "    <tr>\n",
       "      <th>2021-12-31</th>\n",
       "      <td>6.956234e+06</td>\n",
       "      <td>2021-12-31</td>\n",
       "    </tr>\n",
       "  </tbody>\n",
       "</table>\n",
       "<p>61 rows × 2 columns</p>\n",
       "</div>"
      ],
      "text/plain": [
       "                       y         ds\n",
       "ds                                 \n",
       "1961-12-31  2.494167e+06 1961-12-31\n",
       "1962-12-31  2.680106e+06 1962-12-31\n",
       "1963-12-31  2.968427e+06 1963-12-31\n",
       "1964-12-31  3.170752e+06 1964-12-31\n",
       "1965-12-31  3.134230e+06 1965-12-31\n",
       "...                  ...        ...\n",
       "2017-12-31  7.663097e+06 2017-12-31\n",
       "2018-12-31  6.771557e+06 2018-12-31\n",
       "2019-12-31  6.699247e+06 2019-12-31\n",
       "2020-12-31  6.825269e+06 2020-12-31\n",
       "2021-12-31  6.956234e+06 2021-12-31\n",
       "\n",
       "[61 rows x 2 columns]"
      ]
     },
     "execution_count": 28,
     "metadata": {},
     "output_type": "execute_result"
    }
   ],
   "source": [
    "new['ds']=new.index\n",
    "new"
   ]
  },
  {
   "cell_type": "code",
   "execution_count": 18,
   "id": "85bfa679",
   "metadata": {
    "scrolled": true
   },
   "outputs": [
    {
     "name": "stdout",
     "output_type": "stream",
     "text": [
      "Unique values of Area : 149\n",
      "Unique values of Year : 61\n",
      "Unique values of Unit : 1\n",
      "Unique values of Flag : 5\n",
      "Unique values of Flag Description : 5\n"
     ]
    }
   ],
   "source": [
    "for i in df.drop(columns=['Value']).columns:\n",
    "    print('Unique values of',i,':',len(list(df[i].unique())))"
   ]
  },
  {
   "cell_type": "code",
   "execution_count": 22,
   "id": "ed47553a",
   "metadata": {},
   "outputs": [
    {
     "data": {
      "text/plain": [
       "(array([657., 674., 678., 674., 681., 742., 756., 755., 753., 954.]),\n",
       " array([1961., 1967., 1973., 1979., 1985., 1991., 1997., 2003., 2009.,\n",
       "        2015., 2021.]),\n",
       " <BarContainer object of 10 artists>)"
      ]
     },
     "execution_count": 22,
     "metadata": {},
     "output_type": "execute_result"
    },
    {
     "data": {
      "image/png": "[encoded data removed]",
      "text/plain": [
       "<Figure size 720x360 with 1 Axes>"
      ]
     },
     "metadata": {
      "needs_background": "light"
     },
     "output_type": "display_data"
    }
   ],
   "source": [
    "plt.figure(figsize=(10,5))\n",
    "plt.hist(df['Year'],rwidth = 0.7)"
   ]
  },
  {
   "cell_type": "markdown",
   "id": "82661755",
   "metadata": {},
   "source": [
    "# Data Analysis"
   ]
  },
  {
   "cell_type": "code",
   "execution_count": 2,
   "id": "3bc77e1b",
   "metadata": {},
   "outputs": [
    {
     "data": {
      "text/plain": [
       "0      1961-01-01\n",
       "1      1962-01-01\n",
       "2      1963-01-01\n",
       "3      1964-01-01\n",
       "4      1965-01-01\n",
       "          ...    \n",
       "7319   2017-01-01\n",
       "7320   2018-01-01\n",
       "7321   2019-01-01\n",
       "7322   2020-01-01\n",
       "7323   2021-01-01\n",
       "Name: Year, Length: 7324, dtype: datetime64[ns]"
      ]
     },
     "execution_count": 2,
     "metadata": {},
     "output_type": "execute_result"
    }
   ],
   "source": [
    "train_dates=pd.to_datetime(df.Year.astype('str'),dayfirst=True)\n",
    "train_dates"
   ]
  },
  {
   "cell_type": "code",
   "execution_count": 29,
   "id": "1df47fff",
   "metadata": {},
   "outputs": [
    {
     "data": {
      "image/png": "[encoded data removed]",
      "text/plain": [
       "<Figure size 1080x360 with 1 Axes>"
      ]
     },
     "metadata": {
      "needs_background": "light"
     },
     "output_type": "display_data"
    }
   ],
   "source": [
    "plt.figure(figsize=(15,5))\n",
    "sns.scatterplot(new['ds'],new['y'])\n",
    "plt.show()"
   ]
  },
  {
   "cell_type": "code",
   "execution_count": 33,
   "id": "4c09e8a2",
   "metadata": {},
   "outputs": [
    {
     "data": {
      "text/html": [
       "<div>\n",
       "<style scoped>\n",
       "    .dataframe tbody tr th:only-of-type {\n",
       "        vertical-align: middle;\n",
       "    }\n",
       "\n",
       "    .dataframe tbody tr th {\n",
       "        vertical-align: top;\n",
       "    }\n",
       "\n",
       "    .dataframe thead th {\n",
       "        text-align: right;\n",
       "    }\n",
       "</style>\n",
       "<table border=\"1\" class=\"dataframe\">\n",
       "  <thead>\n",
       "    <tr style=\"text-align: right;\">\n",
       "      <th></th>\n",
       "      <th>Area</th>\n",
       "      <th>Year</th>\n",
       "      <th>Unit</th>\n",
       "      <th>Value</th>\n",
       "      <th>Flag</th>\n",
       "      <th>Flag Description</th>\n",
       "    </tr>\n",
       "  </thead>\n",
       "  <tbody>\n",
       "    <tr>\n",
       "      <th>4660</th>\n",
       "      <td>Netherlands</td>\n",
       "      <td>2018</td>\n",
       "      <td>tonnes</td>\n",
       "      <td>0.0</td>\n",
       "      <td>A</td>\n",
       "      <td>Official figure</td>\n",
       "    </tr>\n",
       "    <tr>\n",
       "      <th>2721</th>\n",
       "      <td>Germany</td>\n",
       "      <td>2018</td>\n",
       "      <td>tonnes</td>\n",
       "      <td>0.0</td>\n",
       "      <td>A</td>\n",
       "      <td>Official figure</td>\n",
       "    </tr>\n",
       "    <tr>\n",
       "      <th>330</th>\n",
       "      <td>Armenia</td>\n",
       "      <td>2021</td>\n",
       "      <td>tonnes</td>\n",
       "      <td>0.0</td>\n",
       "      <td>M</td>\n",
       "      <td>Missing value (data cannot exist, not applicable)</td>\n",
       "    </tr>\n",
       "    <tr>\n",
       "      <th>329</th>\n",
       "      <td>Armenia</td>\n",
       "      <td>2020</td>\n",
       "      <td>tonnes</td>\n",
       "      <td>0.0</td>\n",
       "      <td>M</td>\n",
       "      <td>Missing value (data cannot exist, not applicable)</td>\n",
       "    </tr>\n",
       "    <tr>\n",
       "      <th>328</th>\n",
       "      <td>Armenia</td>\n",
       "      <td>2019</td>\n",
       "      <td>tonnes</td>\n",
       "      <td>0.0</td>\n",
       "      <td>M</td>\n",
       "      <td>Missing value (data cannot exist, not applicable)</td>\n",
       "    </tr>\n",
       "    <tr>\n",
       "      <th>...</th>\n",
       "      <td>...</td>\n",
       "      <td>...</td>\n",
       "      <td>...</td>\n",
       "      <td>...</td>\n",
       "      <td>...</td>\n",
       "      <td>...</td>\n",
       "    </tr>\n",
       "    <tr>\n",
       "      <th>1400</th>\n",
       "      <td>China</td>\n",
       "      <td>2020</td>\n",
       "      <td>tonnes</td>\n",
       "      <td>213610729.1</td>\n",
       "      <td>E</td>\n",
       "      <td>Estimated value</td>\n",
       "    </tr>\n",
       "    <tr>\n",
       "      <th>1395</th>\n",
       "      <td>China</td>\n",
       "      <td>2015</td>\n",
       "      <td>tonnes</td>\n",
       "      <td>213723732.1</td>\n",
       "      <td>E</td>\n",
       "      <td>Estimated value</td>\n",
       "    </tr>\n",
       "    <tr>\n",
       "      <th>1398</th>\n",
       "      <td>China</td>\n",
       "      <td>2018</td>\n",
       "      <td>tonnes</td>\n",
       "      <td>214078796.1</td>\n",
       "      <td>E</td>\n",
       "      <td>Estimated value</td>\n",
       "    </tr>\n",
       "    <tr>\n",
       "      <th>1401</th>\n",
       "      <td>China</td>\n",
       "      <td>2021</td>\n",
       "      <td>tonnes</td>\n",
       "      <td>214403870.1</td>\n",
       "      <td>E</td>\n",
       "      <td>Estimated value</td>\n",
       "    </tr>\n",
       "    <tr>\n",
       "      <th>1397</th>\n",
       "      <td>China</td>\n",
       "      <td>2017</td>\n",
       "      <td>tonnes</td>\n",
       "      <td>214429949.1</td>\n",
       "      <td>E</td>\n",
       "      <td>Estimated value</td>\n",
       "    </tr>\n",
       "  </tbody>\n",
       "</table>\n",
       "<p>7324 rows × 6 columns</p>\n",
       "</div>"
      ],
      "text/plain": [
       "             Area  Year    Unit        Value Flag  \\\n",
       "4660  Netherlands  2018  tonnes          0.0    A   \n",
       "2721      Germany  2018  tonnes          0.0    A   \n",
       "330       Armenia  2021  tonnes          0.0    M   \n",
       "329       Armenia  2020  tonnes          0.0    M   \n",
       "328       Armenia  2019  tonnes          0.0    M   \n",
       "...           ...   ...     ...          ...  ...   \n",
       "1400        China  2020  tonnes  213610729.1    E   \n",
       "1395        China  2015  tonnes  213723732.1    E   \n",
       "1398        China  2018  tonnes  214078796.1    E   \n",
       "1401        China  2021  tonnes  214403870.1    E   \n",
       "1397        China  2017  tonnes  214429949.1    E   \n",
       "\n",
       "                                       Flag Description  \n",
       "4660                                    Official figure  \n",
       "2721                                    Official figure  \n",
       "330   Missing value (data cannot exist, not applicable)  \n",
       "329   Missing value (data cannot exist, not applicable)  \n",
       "328   Missing value (data cannot exist, not applicable)  \n",
       "...                                                 ...  \n",
       "1400                                    Estimated value  \n",
       "1395                                    Estimated value  \n",
       "1398                                    Estimated value  \n",
       "1401                                    Estimated value  \n",
       "1397                                    Estimated value  \n",
       "\n",
       "[7324 rows x 6 columns]"
      ]
     },
     "execution_count": 33,
     "metadata": {},
     "output_type": "execute_result"
    }
   ],
   "source": [
    "df.sort_values('Value')"
   ]
  },
  {
   "cell_type": "code",
   "execution_count": 36,
   "id": "15d90cbd",
   "metadata": {},
   "outputs": [
    {
     "name": "stderr",
     "output_type": "stream",
     "text": [
      "C:\\ProgramData\\Anaconda3\\lib\\site-packages\\seaborn\\_decorators.py:36: FutureWarning: Pass the following variables as keyword args: x, y. From version 0.12, the only valid positional argument will be `data`, and passing other arguments without an explicit keyword will result in an error or misinterpretation.\n",
      "  warnings.warn(\n"
     ]
    },
    {
     "data": {
      "image/png": "[encoded data removed]",
      "text/plain": [
       "<Figure size 1800x720 with 1 Axes>"
      ]
     },
     "metadata": {
      "needs_background": "light"
     },
     "output_type": "display_data"
    }
   ],
   "source": [
    "plt.figure(figsize=(25,10))\n",
    "plt.xticks(rotation=90)\n",
    "sns.barplot(df.Area,df.Value)\n",
    "plt.show()"
   ]
  },
  {
   "cell_type": "code",
   "execution_count": 37,
   "id": "84b3ef9b",
   "metadata": {},
   "outputs": [],
   "source": [
    "import tensorflow as tf"
   ]
  },
  {
   "cell_type": "code",
   "execution_count": 38,
   "id": "452bacda",
   "metadata": {},
   "outputs": [
    {
     "data": {
      "text/plain": [
       "'2.12.0-dev20221224'"
      ]
     },
     "execution_count": 38,
     "metadata": {},
     "output_type": "execute_result"
    }
   ],
   "source": [
    "tf.__version__"
   ]
  },
  {
   "cell_type": "code",
   "execution_count": 39,
   "id": "78f78f99",
   "metadata": {},
   "outputs": [],
   "source": [
    "import keras"
   ]
  },
  {
   "cell_type": "code",
   "execution_count": 40,
   "id": "cbb6b977",
   "metadata": {},
   "outputs": [
    {
     "data": {
      "text/plain": [
       "'2.12.0'"
      ]
     },
     "execution_count": 40,
     "metadata": {},
     "output_type": "execute_result"
    }
   ],
   "source": [
    "keras.__version__"
   ]
  },
  {
   "cell_type": "markdown",
   "id": "c49e5d6c",
   "metadata": {},
   "source": [
    "# LSTM"
   ]
  },
  {
   "cell_type": "code",
   "execution_count": 5,
   "id": "cb8ead2b",
   "metadata": {},
   "outputs": [],
   "source": [
    "from keras.models import Sequential\n",
    "from keras.layers import LSTM, Dense, Dropout\n",
    "from tensorflow.keras import layers\n",
    "df = pd.read_csv('Data/rice production across different countries from 1961 to 2021.csv')"
   ]
  },
  {
   "cell_type": "code",
   "execution_count": 19,
   "id": "10a8a432",
   "metadata": {},
   "outputs": [],
   "source": [
    "from sklearn.preprocessing import StandardScaler\n",
    "scalar = StandardScaler()\n",
    "df.Value = scalar.fit_transform(df.Value.values.reshape(-1,1))"
   ]
  },
  {
   "cell_type": "code",
   "execution_count": 6,
   "id": "b16f7690",
   "metadata": {},
   "outputs": [
    {
     "name": "stdout",
     "output_type": "stream",
     "text": [
      "trainX shape == (5859, 1)\n",
      "trainY shape == (5859, 1)\n"
     ]
    }
   ],
   "source": [
    "#Lists for storing the training data considering multiple variables\n",
    "#trainX for storing training data (temperature,wind speed,relative humidity)\n",
    "#trainY for storing target values(rainfall)\n",
    "trainX=[] \n",
    "trainY=[]\n",
    "\n",
    "n_past=30 #30 values will be considered to predict the next values\n",
    "n_fut=80#for predicting the next 80 value based on previous 30 values\n",
    "\n",
    "#Adding the values to trainX and trainY lists\n",
    "for i in range(n_past,len(training_df_scaled)-n_fut+1):\n",
    "    trainX.append(training_df_scaled[i-n_past:i,0:training_df_scaled.shape[1]])\n",
    "    trainY.append(training_df_scaled[i+n_fut-1:i+n_fut,0])\n",
    "\n",
    "# Split data into training and testing sets\n",
    "train_size = int(len(df) * 0.8)\n",
    "train, test = df.iloc[:train_size], df.iloc[train_size:]\n",
    "\n",
    "#Converting into numpy arrays\n",
    "trainX,trainY=np.array(train.Year.values.reshape(-1,1)),np.array(train.Value.values.reshape(-1,1))\n",
    "\n",
    "print('trainX shape == {}'.format(trainX.shape))#Knowing the shape \n",
    "#(364,20,4) means there are 364windows(groups) of 20*4\n",
    "\n",
    "\n",
    "print('trainY shape == {}'.format(trainY.shape))\n",
    "#There are 364 values from previous values"
   ]
  },
  {
   "cell_type": "code",
   "execution_count": 14,
   "id": "3a0238b1",
   "metadata": {},
   "outputs": [
    {
     "name": "stdout",
     "output_type": "stream",
     "text": [
      "Model: \"sequential_3\"\n",
      "_________________________________________________________________\n",
      " Layer (type)                Output Shape              Param #   \n",
      "=================================================================\n",
      " lstm_4 (LSTM)               (None, 1, 32)             4352      \n",
      "                                                                 \n",
      " dropout_4 (Dropout)         (None, 1, 32)             0         \n",
      "                                                                 \n",
      " lstm_5 (LSTM)               (None, 32)                8320      \n",
      "                                                                 \n",
      " dropout_5 (Dropout)         (None, 32)                0         \n",
      "                                                                 \n",
      " dense_3 (Dense)             (None, 1)                 33        \n",
      "                                                                 \n",
      "=================================================================\n",
      "Total params: 12,705\n",
      "Trainable params: 12,705\n",
      "Non-trainable params: 0\n",
      "_________________________________________________________________\n"
     ]
    }
   ],
   "source": [
    "model=Sequential()\n",
    "model.add(LSTM(32,activation='relu',input_shape=(1,1),return_sequences=True))\n",
    "model.add(Dropout(0.3))\n",
    "\n",
    "'''model.add(layers.BatchNormalization())\n",
    "\n",
    "model.add(LSTM(32,activation='relu',return_sequences=True))\n",
    "model.add(Dropout(0.3))\n",
    "\n",
    "model.add(LSTM(32,activation='relu',return_sequences=True))\n",
    "model.add(Dropout(0.3))'''\n",
    "\n",
    "model.add(LSTM(32,activation='relu',return_sequences=False))\n",
    "model.add(Dropout(0.3))\n",
    "\n",
    "model.add(Dense(trainY.shape[1]))\n",
    "\n",
    "model.compile(optimizer='adam',loss='mse',metrics=[\"accuracy\"])\n",
    "model.summary()"
   ]
  },
  {
   "cell_type": "code",
   "execution_count": 15,
   "id": "8e978ec7",
   "metadata": {},
   "outputs": [],
   "source": [
    "from keras import backend as K\n",
    "jobs = 6 # it means number of cores\n",
    "config = tf.compat.v1.ConfigProto(intra_op_parallelism_threads=jobs,\n",
    "                         inter_op_parallelism_threads=jobs,\n",
    "                         allow_soft_placement=True,\n",
    "                         device_count={'CPU': jobs})\n",
    "session = tf.compat.v1.Session(config=config)\n",
    "K.set_session(session)"
   ]
  },
  {
   "cell_type": "code",
   "execution_count": 20,
   "id": "da6dc210",
   "metadata": {},
   "outputs": [
    {
     "name": "stdout",
     "output_type": "stream",
     "text": [
      "Epoch 1/10\n",
      "938/938 [==============================] - 3s 4ms/step - loss: 947037805740032.0000 - accuracy: 4.2671e-04 - val_loss: 10950440648704.0000 - val_accuracy: 0.0000e+00\n",
      "Epoch 2/10\n",
      "938/938 [==============================] - 3s 4ms/step - loss: 943045432311808.0000 - accuracy: 4.2671e-04 - val_loss: 10722428846080.0000 - val_accuracy: 0.0000e+00\n",
      "Epoch 3/10\n",
      "938/938 [==============================] - 3s 4ms/step - loss: 942555134951424.0000 - accuracy: 4.2671e-04 - val_loss: 10570373791744.0000 - val_accuracy: 0.0000e+00\n",
      "Epoch 4/10\n",
      "938/938 [==============================] - 3s 4ms/step - loss: 940577705164800.0000 - accuracy: 4.2671e-04 - val_loss: 10480645046272.0000 - val_accuracy: 0.0000e+00\n",
      "Epoch 5/10\n",
      "938/938 [==============================] - 3s 4ms/step - loss: 939697035542528.0000 - accuracy: 4.2671e-04 - val_loss: 10464144654336.0000 - val_accuracy: 0.0000e+00\n",
      "Epoch 6/10\n",
      "938/938 [==============================] - 3s 4ms/step - loss: 938579068977152.0000 - accuracy: 4.2671e-04 - val_loss: 10512449404928.0000 - val_accuracy: 0.0000e+00\n",
      "Epoch 7/10\n",
      "938/938 [==============================] - 4s 4ms/step - loss: 933084799172608.0000 - accuracy: 4.2671e-04 - val_loss: 10658192031744.0000 - val_accuracy: 0.0000e+00\n",
      "Epoch 8/10\n",
      "938/938 [==============================] - 3s 4ms/step - loss: 932180842774528.0000 - accuracy: 4.2671e-04 - val_loss: 10878387748864.0000 - val_accuracy: 0.0000e+00\n",
      "Epoch 9/10\n",
      "938/938 [==============================] - 3s 4ms/step - loss: 932419549003776.0000 - accuracy: 4.2671e-04 - val_loss: 11138987196416.0000 - val_accuracy: 0.0000e+00\n",
      "Epoch 10/10\n",
      "938/938 [==============================] - 3s 4ms/step - loss: 929736066859008.0000 - accuracy: 4.2671e-04 - val_loss: 11481467846656.0000 - val_accuracy: 0.0000e+00\n"
     ]
    }
   ],
   "source": [
    "history=model.fit(trainX,trainY,epochs=10,batch_size=5,validation_split=0.2,verbose=1)"
   ]
  },
  {
   "cell_type": "code",
   "execution_count": 21,
   "id": "fec8c3c5",
   "metadata": {},
   "outputs": [
    {
     "data": {
      "text/plain": [
       "<matplotlib.legend.Legend at 0x2527701d160>"
      ]
     },
     "execution_count": 21,
     "metadata": {},
     "output_type": "execute_result"
    },
    {
     "data": {
      "image/png": "[encoded data removed]",
      "text/plain": [
       "<Figure size 432x288 with 1 Axes>"
      ]
     },
     "metadata": {
      "needs_background": "light"
     },
     "output_type": "display_data"
    }
   ],
   "source": [
    "plt.plot(history.history['loss'],label='Training loss')\n",
    "plt.plot(history.history['val_loss'],label='Validation Loss')\n",
    "plt.legend()"
   ]
  },
  {
   "cell_type": "code",
   "execution_count": 22,
   "id": "1f0a994b",
   "metadata": {},
   "outputs": [
    {
     "name": "stdout",
     "output_type": "stream",
     "text": [
      "3/3 [==============================] - 1s 3ms/step\n"
     ]
    }
   ],
   "source": [
    "#Predicting...\n",
    "#Libraries that will help us extract only business days in the US.\n",
    "#Otherwise our dates would be wrong when we look back (or forward).  \n",
    "train_dates=pd.to_datetime(df.Year,dayfirst=True)\n",
    "\n",
    "from pandas.tseries.holiday import USFederalHolidayCalendar\n",
    "from pandas.tseries.offsets import CustomBusinessDay\n",
    "us_bd = CustomBusinessDay(calendar=USFederalHolidayCalendar())\n",
    "\n",
    "n_past = 30\n",
    "n_days_for_prediction=80\n",
    "\n",
    "predict_period_dates = pd.date_range(list(train_dates)[-n_past], periods=n_days_for_prediction, freq=us_bd).tolist()\n",
    "\n",
    "# make prediction\n",
    "prediction = model.predict(trainX[-n_days_for_prediction:]) #shape = (n, 1) where n is the n_days_for_prediction\n",
    "\n",
    "#Perform inverse transformation to rescale back to original range\n",
    "#Since we used 1 variables for transform, the inverse expects same dimensions\n",
    "prediction_copies = np.repeat(prediction, df.shape[1], axis=-1)\n",
    "\n",
    "y_pred_future = scalar.inverse_transform(prediction_copies)[:,0]\n",
    "\n",
    "# Convert timestamp to date\n",
    "forecast_dates = []\n",
    "for time_i in predict_period_dates:\n",
    "    forecast_dates.append(time_i.date())\n",
    "    \n",
    "df_forecast = pd.DataFrame({'Date':np.array(forecast_dates), 'Value':y_pred_future})\n",
    "df_forecast['Date']=pd.to_datetime(df_forecast['Date'])"
   ]
  },
  {
   "cell_type": "code",
   "execution_count": 42,
   "id": "3b50a55d",
   "metadata": {},
   "outputs": [
    {
     "name": "stdout",
     "output_type": "stream",
     "text": [
      "46/46 [==============================] - 0s 2ms/step\n"
     ]
    }
   ],
   "source": [
    "prediction = model.predict(test.Year.values.reshape(-1,1))"
   ]
  },
  {
   "cell_type": "code",
   "execution_count": 43,
   "id": "9c7868d4",
   "metadata": {},
   "outputs": [
    {
     "data": {
      "text/plain": [
       "array([6516816.5, 6520044.5, 6523272.5, ..., 6520044.5, 6523272.5,\n",
       "       6526500. ], dtype=float32)"
      ]
     },
     "execution_count": 43,
     "metadata": {},
     "output_type": "execute_result"
    }
   ],
   "source": [
    "prediction.reshape(1,-1)[0]"
   ]
  },
  {
   "cell_type": "code",
   "execution_count": 44,
   "id": "b33050a6",
   "metadata": {},
   "outputs": [],
   "source": [
    "df_forecast = pd.DataFrame({'Date':np.array(test.Year), 'Value':prediction.reshape(1,-1)[0]})\n",
    "df_forecast['Date']=df_forecast['Date']"
   ]
  },
  {
   "cell_type": "code",
   "execution_count": 41,
   "id": "a1f872c9",
   "metadata": {
    "scrolled": true
   },
   "outputs": [
    {
     "data": {
      "text/plain": [
       "(100, 30, 1)"
      ]
     },
     "execution_count": 41,
     "metadata": {},
     "output_type": "execute_result"
    }
   ],
   "source": [
    "trainX[-n_days_for_prediction:].shape\n",
    "#(100, 30, 1) 30days"
   ]
  },
  {
   "cell_type": "code",
   "execution_count": 37,
   "id": "2338b5bf",
   "metadata": {
    "scrolled": true
   },
   "outputs": [
    {
     "name": "stderr",
     "output_type": "stream",
     "text": [
      "C:\\Users\\ashwi\\AppData\\Roaming\\Python\\Python39\\site-packages\\sklearn\\base.py:450: UserWarning: X does not have valid feature names, but StandardScaler was fitted with feature names\n",
      "  warnings.warn(\n"
     ]
    },
    {
     "data": {
      "text/plain": [
       "(100, 1)"
      ]
     },
     "execution_count": 37,
     "metadata": {},
     "output_type": "execute_result"
    }
   ],
   "source": [
    "scalar.transform(df_forecast.Value.values.reshape(-1,1)).shape"
   ]
  },
  {
   "cell_type": "code",
   "execution_count": 23,
   "id": "a9c6e8d3",
   "metadata": {},
   "outputs": [
    {
     "data": {
      "text/html": [
       "<div>\n",
       "<style scoped>\n",
       "    .dataframe tbody tr th:only-of-type {\n",
       "        vertical-align: middle;\n",
       "    }\n",
       "\n",
       "    .dataframe tbody tr th {\n",
       "        vertical-align: top;\n",
       "    }\n",
       "\n",
       "    .dataframe thead th {\n",
       "        text-align: right;\n",
       "    }\n",
       "</style>\n",
       "<table border=\"1\" class=\"dataframe\">\n",
       "  <thead>\n",
       "    <tr style=\"text-align: right;\">\n",
       "      <th></th>\n",
       "      <th>Area</th>\n",
       "      <th>Year</th>\n",
       "      <th>Unit</th>\n",
       "      <th>Value</th>\n",
       "      <th>Flag</th>\n",
       "      <th>Flag Description</th>\n",
       "    </tr>\n",
       "  </thead>\n",
       "  <tbody>\n",
       "    <tr>\n",
       "      <th>5859</th>\n",
       "      <td>Slovenia</td>\n",
       "      <td>2018</td>\n",
       "      <td>tonnes</td>\n",
       "      <td>0.00</td>\n",
       "      <td>A</td>\n",
       "      <td>Official figure</td>\n",
       "    </tr>\n",
       "    <tr>\n",
       "      <th>5860</th>\n",
       "      <td>Slovenia</td>\n",
       "      <td>2019</td>\n",
       "      <td>tonnes</td>\n",
       "      <td>0.00</td>\n",
       "      <td>A</td>\n",
       "      <td>Official figure</td>\n",
       "    </tr>\n",
       "    <tr>\n",
       "      <th>5861</th>\n",
       "      <td>Slovenia</td>\n",
       "      <td>2020</td>\n",
       "      <td>tonnes</td>\n",
       "      <td>0.00</td>\n",
       "      <td>A</td>\n",
       "      <td>Official figure</td>\n",
       "    </tr>\n",
       "    <tr>\n",
       "      <th>5862</th>\n",
       "      <td>Slovenia</td>\n",
       "      <td>2021</td>\n",
       "      <td>tonnes</td>\n",
       "      <td>0.00</td>\n",
       "      <td>A</td>\n",
       "      <td>Official figure</td>\n",
       "    </tr>\n",
       "    <tr>\n",
       "      <th>5863</th>\n",
       "      <td>Solomon Islands</td>\n",
       "      <td>1961</td>\n",
       "      <td>tonnes</td>\n",
       "      <td>200.00</td>\n",
       "      <td>E</td>\n",
       "      <td>Estimated value</td>\n",
       "    </tr>\n",
       "    <tr>\n",
       "      <th>...</th>\n",
       "      <td>...</td>\n",
       "      <td>...</td>\n",
       "      <td>...</td>\n",
       "      <td>...</td>\n",
       "      <td>...</td>\n",
       "      <td>...</td>\n",
       "    </tr>\n",
       "    <tr>\n",
       "      <th>7319</th>\n",
       "      <td>Zimbabwe</td>\n",
       "      <td>2017</td>\n",
       "      <td>tonnes</td>\n",
       "      <td>1326.90</td>\n",
       "      <td>I</td>\n",
       "      <td>Imputed value</td>\n",
       "    </tr>\n",
       "    <tr>\n",
       "      <th>7320</th>\n",
       "      <td>Zimbabwe</td>\n",
       "      <td>2018</td>\n",
       "      <td>tonnes</td>\n",
       "      <td>1342.47</td>\n",
       "      <td>I</td>\n",
       "      <td>Imputed value</td>\n",
       "    </tr>\n",
       "    <tr>\n",
       "      <th>7321</th>\n",
       "      <td>Zimbabwe</td>\n",
       "      <td>2019</td>\n",
       "      <td>tonnes</td>\n",
       "      <td>1134.00</td>\n",
       "      <td>A</td>\n",
       "      <td>Official figure</td>\n",
       "    </tr>\n",
       "    <tr>\n",
       "      <th>7322</th>\n",
       "      <td>Zimbabwe</td>\n",
       "      <td>2020</td>\n",
       "      <td>tonnes</td>\n",
       "      <td>750.00</td>\n",
       "      <td>E</td>\n",
       "      <td>Estimated value</td>\n",
       "    </tr>\n",
       "    <tr>\n",
       "      <th>7323</th>\n",
       "      <td>Zimbabwe</td>\n",
       "      <td>2021</td>\n",
       "      <td>tonnes</td>\n",
       "      <td>2908.00</td>\n",
       "      <td>A</td>\n",
       "      <td>Official figure</td>\n",
       "    </tr>\n",
       "  </tbody>\n",
       "</table>\n",
       "<p>1465 rows × 6 columns</p>\n",
       "</div>"
      ],
      "text/plain": [
       "                 Area  Year    Unit    Value Flag Flag Description\n",
       "5859         Slovenia  2018  tonnes     0.00    A  Official figure\n",
       "5860         Slovenia  2019  tonnes     0.00    A  Official figure\n",
       "5861         Slovenia  2020  tonnes     0.00    A  Official figure\n",
       "5862         Slovenia  2021  tonnes     0.00    A  Official figure\n",
       "5863  Solomon Islands  1961  tonnes   200.00    E  Estimated value\n",
       "...               ...   ...     ...      ...  ...              ...\n",
       "7319         Zimbabwe  2017  tonnes  1326.90    I    Imputed value\n",
       "7320         Zimbabwe  2018  tonnes  1342.47    I    Imputed value\n",
       "7321         Zimbabwe  2019  tonnes  1134.00    A  Official figure\n",
       "7322         Zimbabwe  2020  tonnes   750.00    E  Estimated value\n",
       "7323         Zimbabwe  2021  tonnes  2908.00    A  Official figure\n",
       "\n",
       "[1465 rows x 6 columns]"
      ]
     },
     "execution_count": 23,
     "metadata": {},
     "output_type": "execute_result"
    }
   ],
   "source": [
    "test"
   ]
  },
  {
   "cell_type": "markdown",
   "id": "aedf704c",
   "metadata": {},
   "source": [
    "# ARIMA"
   ]
  },
  {
   "cell_type": "code",
   "execution_count": 43,
   "id": "68b4ff01",
   "metadata": {},
   "outputs": [
    {
     "name": "stdout",
     "output_type": "stream",
     "text": [
      "(48,)\n",
      "(13,)\n"
     ]
    }
   ],
   "source": [
    "# Split data into training and testing sets\n",
    "train_size = int(len(new) * 0.8)\n",
    "train, test = new['y'].iloc[:train_size], new['y'].iloc[train_size:]\n",
    "print(train.shape)\n",
    "print(test.shape)"
   ]
  },
  {
   "cell_type": "code",
   "execution_count": 57,
   "id": "cec8a0ee",
   "metadata": {},
   "outputs": [],
   "source": [
    "# Fit ARIMA model\n",
    "model = ARIMA(train, order=(1, 1, 1))\n",
    "model_fit = model.fit()\n",
    "\n",
    "# Make predictions on testing set\n",
    "predictions = model_fit.forecast(len(test))"
   ]
  },
  {
   "cell_type": "code",
   "execution_count": 58,
   "id": "17f46370",
   "metadata": {},
   "outputs": [
    {
     "name": "stdout",
     "output_type": "stream",
     "text": [
      "MAE: 330445.62\n",
      "R2_score: -1.513144909407135\n"
     ]
    },
    {
     "data": {
      "image/png": "[encoded data removed]",
      "text/plain": [
       "<Figure size 1080x576 with 1 Axes>"
      ]
     },
     "metadata": {
      "needs_background": "light"
     },
     "output_type": "display_data"
    }
   ],
   "source": [
    "# RMSE\n",
    "mae = mean_absolute_error(test, predictions)\n",
    "r2 = r2_score(test, predictions)\n",
    "print('MAE: %.2f' % mae)\n",
    "print('R2_score:',r2)\n",
    "\n",
    "# Plot predictions and actual values\n",
    "plt.figure(figsize=(15,8))\n",
    "plt.plot(train)\n",
    "plt.plot(test)\n",
    "plt.plot(predictions, color='red')\n",
    "plt.show()\n"
   ]
  },
  {
   "cell_type": "code",
   "execution_count": 65,
   "id": "fb1b408c",
   "metadata": {
    "scrolled": true
   },
   "outputs": [
    {
     "name": "stdout",
     "output_type": "stream",
     "text": [
      "(0, 0, 0) MAE: 2163087.232055017\n",
      "(0, 0, 1) MAE: 2100035.1076148124\n",
      "(0, 0, 2) MAE: 2021346.93052962\n",
      "(0, 1, 0) MAE: 322645.88805441407\n",
      "(0, 1, 1) MAE: 315522.6448755602\n",
      "(0, 1, 2) MAE: 298630.6470499881\n",
      "(0, 2, 0) MAE: 1843446.313675422\n",
      "(0, 2, 1) MAE: 1743915.450572959\n",
      "(0, 2, 2) MAE: 1391022.4672651344\n",
      "(1, 0, 0) MAE: 324808.8920515854\n",
      "(1, 0, 1) MAE: 305660.1996564325\n",
      "(1, 0, 2) MAE: 276469.594741488\n",
      "(1, 1, 0) MAE: 311127.17853949714\n",
      "(1, 1, 1) MAE: 330445.6211766582\n",
      "(1, 1, 2) MAE: 337513.9535196569\n",
      "(1, 2, 0) MAE: 1804730.6464688745\n",
      "(1, 2, 1) MAE: 921166.7149428566\n",
      "(1, 2, 2) MAE: 966840.6144948067\n",
      "(2, 0, 0) MAE: 270624.3946361325\n",
      "(2, 0, 1) MAE: 247923.91791565673\n",
      "(2, 0, 2) MAE: 268203.8357253258\n",
      "(2, 1, 0) MAE: 292498.41366963426\n",
      "(2, 1, 1) MAE: 340786.37379511015\n",
      "(2, 1, 2) MAE: 331444.3021476872\n",
      "(2, 2, 0) MAE: 1697161.5455664385\n",
      "(2, 2, 1) MAE: 968089.2103020253\n",
      "(2, 2, 2) MAE: 931586.2182603148\n",
      "Best parameters:  (2, 0, 1)\n",
      "mae:  247923.91791565673\n"
     ]
    }
   ],
   "source": [
    "# Define parameter grid for grid search\n",
    "import itertools\n",
    "p = range(0, 3)\n",
    "d = range(0, 3)\n",
    "q = range(0, 3)\n",
    "pdq = list(itertools.product(p, d, q))\n",
    "\n",
    "\n",
    "# Perform grid search\n",
    "best_score, best_cfg, bestfit = float('inf'), None, None\n",
    "for param in pdq:\n",
    "    try:\n",
    "        model = ARIMA(train, order=param)\n",
    "        model_fit = model.fit()\n",
    "        y_pred = model_fit.forecast(len(test))\n",
    "        mae = mean_absolute_error(test, y_pred)\n",
    "        print(param,'MAE:',mae)\n",
    "        if mae < best_score:\n",
    "            best_score, best_cfg, bestfit = mae, param, model_fit\n",
    "    except:\n",
    "        continue\n",
    "\n",
    "print('Best parameters: ', best_cfg)\n",
    "print('mae: ', best_score)"
   ]
  },
  {
   "cell_type": "code",
   "execution_count": 66,
   "id": "19914b39",
   "metadata": {},
   "outputs": [
    {
     "name": "stdout",
     "output_type": "stream",
     "text": [
      "mae: 247923.92\n"
     ]
    },
    {
     "data": {
      "image/png": "[encoded data removed]",
      "text/plain": [
       "<Figure size 1080x576 with 1 Axes>"
      ]
     },
     "metadata": {
      "needs_background": "light"
     },
     "output_type": "display_data"
    }
   ],
   "source": [
    "# Make predictions on testing set\n",
    "# parameters (2,0,1)\n",
    "predictions = bestfit.forecast(steps=len(test))\n",
    "\n",
    "# Mean absolute error calculation\n",
    "mae = mean_absolute_error(test, predictions)\n",
    "print('mae: %.2f' % mae)\n",
    "\n",
    "# Plot predictions and actual values\n",
    "fig=plt.figure(figsize=(15,8))\n",
    "ax = fig.add_axes([1, 1, 1, 1])\n",
    "ax=plt.plot(train,label='train data')\n",
    "ax=plt.plot(test,color='green',label='original data')\n",
    "ax=plt.plot(predictions, color='red',label='prediction')\n",
    "plt.legend()\n",
    "plt.show()"
   ]
  },
  {
   "cell_type": "markdown",
   "id": "424a9f14",
   "metadata": {},
   "source": [
    "# LSTM"
   ]
  },
  {
   "cell_type": "code",
   "execution_count": 27,
   "id": "de09b00e",
   "metadata": {},
   "outputs": [
    {
     "data": {
      "text/html": [
       "<div>\n",
       "<style scoped>\n",
       "    .dataframe tbody tr th:only-of-type {\n",
       "        vertical-align: middle;\n",
       "    }\n",
       "\n",
       "    .dataframe tbody tr th {\n",
       "        vertical-align: top;\n",
       "    }\n",
       "\n",
       "    .dataframe thead th {\n",
       "        text-align: right;\n",
       "    }\n",
       "</style>\n",
       "<table border=\"1\" class=\"dataframe\">\n",
       "  <thead>\n",
       "    <tr style=\"text-align: right;\">\n",
       "      <th></th>\n",
       "      <th>Area</th>\n",
       "      <th>Unit</th>\n",
       "      <th>Value</th>\n",
       "      <th>Flag</th>\n",
       "      <th>Flag Description</th>\n",
       "    </tr>\n",
       "    <tr>\n",
       "      <th>Year</th>\n",
       "      <th></th>\n",
       "      <th></th>\n",
       "      <th></th>\n",
       "      <th></th>\n",
       "      <th></th>\n",
       "    </tr>\n",
       "  </thead>\n",
       "  <tbody>\n",
       "    <tr>\n",
       "      <th>1961-01-01</th>\n",
       "      <td>Afghanistan</td>\n",
       "      <td>tonnes</td>\n",
       "      <td>319000.00</td>\n",
       "      <td>A</td>\n",
       "      <td>Official figure</td>\n",
       "    </tr>\n",
       "    <tr>\n",
       "      <th>1962-01-01</th>\n",
       "      <td>Afghanistan</td>\n",
       "      <td>tonnes</td>\n",
       "      <td>319000.00</td>\n",
       "      <td>A</td>\n",
       "      <td>Official figure</td>\n",
       "    </tr>\n",
       "    <tr>\n",
       "      <th>1963-01-01</th>\n",
       "      <td>Afghanistan</td>\n",
       "      <td>tonnes</td>\n",
       "      <td>319000.00</td>\n",
       "      <td>A</td>\n",
       "      <td>Official figure</td>\n",
       "    </tr>\n",
       "    <tr>\n",
       "      <th>1964-01-01</th>\n",
       "      <td>Afghanistan</td>\n",
       "      <td>tonnes</td>\n",
       "      <td>380000.00</td>\n",
       "      <td>A</td>\n",
       "      <td>Official figure</td>\n",
       "    </tr>\n",
       "    <tr>\n",
       "      <th>1965-01-01</th>\n",
       "      <td>Afghanistan</td>\n",
       "      <td>tonnes</td>\n",
       "      <td>380000.00</td>\n",
       "      <td>A</td>\n",
       "      <td>Official figure</td>\n",
       "    </tr>\n",
       "    <tr>\n",
       "      <th>...</th>\n",
       "      <td>...</td>\n",
       "      <td>...</td>\n",
       "      <td>...</td>\n",
       "      <td>...</td>\n",
       "      <td>...</td>\n",
       "    </tr>\n",
       "    <tr>\n",
       "      <th>2017-01-01</th>\n",
       "      <td>Zimbabwe</td>\n",
       "      <td>tonnes</td>\n",
       "      <td>1326.90</td>\n",
       "      <td>I</td>\n",
       "      <td>Imputed value</td>\n",
       "    </tr>\n",
       "    <tr>\n",
       "      <th>2018-01-01</th>\n",
       "      <td>Zimbabwe</td>\n",
       "      <td>tonnes</td>\n",
       "      <td>1342.47</td>\n",
       "      <td>I</td>\n",
       "      <td>Imputed value</td>\n",
       "    </tr>\n",
       "    <tr>\n",
       "      <th>2019-01-01</th>\n",
       "      <td>Zimbabwe</td>\n",
       "      <td>tonnes</td>\n",
       "      <td>1134.00</td>\n",
       "      <td>A</td>\n",
       "      <td>Official figure</td>\n",
       "    </tr>\n",
       "    <tr>\n",
       "      <th>2020-01-01</th>\n",
       "      <td>Zimbabwe</td>\n",
       "      <td>tonnes</td>\n",
       "      <td>750.00</td>\n",
       "      <td>E</td>\n",
       "      <td>Estimated value</td>\n",
       "    </tr>\n",
       "    <tr>\n",
       "      <th>2021-01-01</th>\n",
       "      <td>Zimbabwe</td>\n",
       "      <td>tonnes</td>\n",
       "      <td>2908.00</td>\n",
       "      <td>A</td>\n",
       "      <td>Official figure</td>\n",
       "    </tr>\n",
       "  </tbody>\n",
       "</table>\n",
       "<p>7324 rows × 5 columns</p>\n",
       "</div>"
      ],
      "text/plain": [
       "                   Area    Unit      Value Flag Flag Description\n",
       "Year                                                            \n",
       "1961-01-01  Afghanistan  tonnes  319000.00    A  Official figure\n",
       "1962-01-01  Afghanistan  tonnes  319000.00    A  Official figure\n",
       "1963-01-01  Afghanistan  tonnes  319000.00    A  Official figure\n",
       "1964-01-01  Afghanistan  tonnes  380000.00    A  Official figure\n",
       "1965-01-01  Afghanistan  tonnes  380000.00    A  Official figure\n",
       "...                 ...     ...        ...  ...              ...\n",
       "2017-01-01     Zimbabwe  tonnes    1326.90    I    Imputed value\n",
       "2018-01-01     Zimbabwe  tonnes    1342.47    I    Imputed value\n",
       "2019-01-01     Zimbabwe  tonnes    1134.00    A  Official figure\n",
       "2020-01-01     Zimbabwe  tonnes     750.00    E  Estimated value\n",
       "2021-01-01     Zimbabwe  tonnes    2908.00    A  Official figure\n",
       "\n",
       "[7324 rows x 5 columns]"
      ]
     },
     "execution_count": 27,
     "metadata": {},
     "output_type": "execute_result"
    }
   ],
   "source": [
    "import pandas as pd\n",
    "import numpy as np\n",
    "\n",
    "# Load data\n",
    "df = pd.read_csv('Data/rice production across different countries from 1961 to 2021.csv')\n",
    "\n",
    "# Convert year column to datetime index\n",
    "df['Year'] = pd.to_datetime(df['Year'], format='%Y')\n",
    "df.set_index('Year', inplace=True)\n",
    "df"
   ]
  },
  {
   "cell_type": "code",
   "execution_count": 28,
   "id": "457596d3",
   "metadata": {},
   "outputs": [],
   "source": [
    "# Define window size for LSTM model\n",
    "window_size = 3\n",
    "\n",
    "df = df[['Value']]\n",
    "# Create lagged versions of the data to use as features\n",
    "X = []\n",
    "y = []\n",
    "for i in range(window_size, len(df)):\n",
    "    X.append(df.iloc[i-window_size:i, 0])\n",
    "    y.append(df.iloc[i, 0])\n",
    "X = np.array(X)\n",
    "y = np.array(y)\n",
    "\n",
    "# Split data into training and testing sets\n",
    "train_size = int(len(X) * 0.8)\n",
    "train_X, train_y = X[:train_size], y[:train_size]\n",
    "test_X, test_y = X[train_size:], y[train_size:]\n",
    "\n",
    "# Reshape data for LSTM model\n",
    "train_X = np.reshape(train_X, (train_X.shape[0], train_X.shape[1], 1))\n",
    "test_X = np.reshape(test_X, (test_X.shape[0], test_X.shape[1], 1))"
   ]
  },
  {
   "cell_type": "code",
   "execution_count": 32,
   "id": "781f8536",
   "metadata": {},
   "outputs": [],
   "source": [
    "train_size = int(len(X) * 0.8)\n",
    "train, test = df.iloc[:train_size], df.iloc[train_size:]"
   ]
  },
  {
   "cell_type": "code",
   "execution_count": 30,
   "id": "26141ec3",
   "metadata": {
    "scrolled": true
   },
   "outputs": [
    {
     "name": "stdout",
     "output_type": "stream",
     "text": [
      "Epoch 1/10\n",
      "183/183 - 4s - loss: 769136166699008.0000 - accuracy: 0.0372 - 4s/epoch - 21ms/step\n",
      "Epoch 2/10\n",
      "183/183 - 0s - loss: 769136368025600.0000 - accuracy: 0.0073 - 499ms/epoch - 3ms/step\n",
      "Epoch 3/10\n",
      "183/183 - 1s - loss: 769136435134464.0000 - accuracy: 3.4153e-04 - 503ms/epoch - 3ms/step\n",
      "Epoch 4/10\n",
      "183/183 - 1s - loss: 769136166699008.0000 - accuracy: 3.4153e-04 - 509ms/epoch - 3ms/step\n",
      "Epoch 5/10\n",
      "183/183 - 1s - loss: 769135965372416.0000 - accuracy: 3.4153e-04 - 513ms/epoch - 3ms/step\n",
      "Epoch 6/10\n",
      "183/183 - 0s - loss: 769136099590144.0000 - accuracy: 3.4153e-04 - 481ms/epoch - 3ms/step\n",
      "Epoch 7/10\n",
      "183/183 - 1s - loss: 769135562719232.0000 - accuracy: 3.4153e-04 - 505ms/epoch - 3ms/step\n",
      "Epoch 8/10\n",
      "183/183 - 0s - loss: 769135764045824.0000 - accuracy: 3.4153e-04 - 490ms/epoch - 3ms/step\n",
      "Epoch 9/10\n",
      "183/183 - 1s - loss: 769135495610368.0000 - accuracy: 3.4153e-04 - 506ms/epoch - 3ms/step\n",
      "Epoch 10/10\n",
      "183/183 - 0s - loss: 769135495610368.0000 - accuracy: 3.4153e-04 - 491ms/epoch - 3ms/step\n"
     ]
    },
    {
     "data": {
      "text/plain": [
       "<keras.callbacks.History at 0x25275f2cd00>"
      ]
     },
     "execution_count": 30,
     "metadata": {},
     "output_type": "execute_result"
    }
   ],
   "source": [
    "from keras.models import Sequential\n",
    "from keras.layers import LSTM, Dense\n",
    "\n",
    "# Define LSTM model architecture\n",
    "model = Sequential()\n",
    "model.add(LSTM(50, input_shape=(window_size, 1)))\n",
    "model.add(Dense(1))\n",
    "model.compile(loss='mean_squared_error', optimizer='adam',metrics=['accuracy'])\n",
    "\n",
    "# Train LSTM model\n",
    "model.fit(train_X, train_y, epochs=10, batch_size=32, verbose=2)"
   ]
  },
  {
   "cell_type": "code",
   "execution_count": 31,
   "id": "35d616f7",
   "metadata": {},
   "outputs": [
    {
     "name": "stdout",
     "output_type": "stream",
     "text": [
      "46/46 [==============================] - 1s 2ms/step\n",
      "RMSE: 7567646.125705667\n"
     ]
    }
   ],
   "source": [
    "from sklearn.metrics import mean_squared_error\n",
    "\n",
    "# Generate predictions on test data\n",
    "y_pred = model.predict(test_X)\n",
    "\n",
    "# Calculate root mean squared error\n",
    "rmse = np.sqrt(mean_squared_error(test_y, y_pred))\n",
    "print('RMSE:', rmse)\n"
   ]
  },
  {
   "cell_type": "code",
   "execution_count": 56,
   "id": "8854b1b4",
   "metadata": {},
   "outputs": [
    {
     "data": {
      "text/plain": [
       "(5856, 3, 1)"
      ]
     },
     "execution_count": 56,
     "metadata": {},
     "output_type": "execute_result"
    }
   ],
   "source": [
    "train_X.shape"
   ]
  },
  {
   "cell_type": "code",
   "execution_count": 66,
   "id": "127ce279",
   "metadata": {},
   "outputs": [
    {
     "data": {
      "text/plain": [
       "(1465, 3, 1)"
      ]
     },
     "execution_count": 66,
     "metadata": {},
     "output_type": "execute_result"
    }
   ],
   "source": [
    "test_X.shape"
   ]
  },
  {
   "cell_type": "code",
   "execution_count": 65,
   "id": "0ed3a0ce",
   "metadata": {},
   "outputs": [
    {
     "data": {
      "text/plain": [
       "(1465, 1)"
      ]
     },
     "execution_count": 65,
     "metadata": {},
     "output_type": "execute_result"
    }
   ],
   "source": [
    "y_pred.shape"
   ]
  },
  {
   "cell_type": "code",
   "execution_count": 35,
   "id": "a8b58d8a",
   "metadata": {},
   "outputs": [
    {
     "name": "stdout",
     "output_type": "stream",
     "text": [
      "46/46 [==============================] - 0s 2ms/step\n"
     ]
    },
    {
     "ename": "ValueError",
     "evalue": "x and y must have same first dimension, but have shapes (1465,) and (1462, 1)",
     "output_type": "error",
     "traceback": [
      "\u001b[1;31m---------------------------------------------------------------------------\u001b[0m",
      "\u001b[1;31mValueError\u001b[0m                                Traceback (most recent call last)",
      "Input \u001b[1;32mIn [35]\u001b[0m, in \u001b[0;36m<cell line: 8>\u001b[1;34m()\u001b[0m\n\u001b[0;32m      6\u001b[0m \u001b[38;5;66;03m# Plot actual vs predicted values for test data\u001b[39;00m\n\u001b[0;32m      7\u001b[0m plt\u001b[38;5;241m.\u001b[39mplot(test\u001b[38;5;241m.\u001b[39mindex[window_size:], test[\u001b[38;5;124m'\u001b[39m\u001b[38;5;124mValue\u001b[39m\u001b[38;5;124m'\u001b[39m][window_size:], label\u001b[38;5;241m=\u001b[39m\u001b[38;5;124m'\u001b[39m\u001b[38;5;124mActual\u001b[39m\u001b[38;5;124m'\u001b[39m)\n\u001b[1;32m----> 8\u001b[0m \u001b[43mplt\u001b[49m\u001b[38;5;241;43m.\u001b[39;49m\u001b[43mplot\u001b[49m\u001b[43m(\u001b[49m\u001b[43mtest\u001b[49m\u001b[38;5;241;43m.\u001b[39;49m\u001b[43mindex\u001b[49m\u001b[43m[\u001b[49m\u001b[43mwindow_size\u001b[49m\u001b[43m:\u001b[49m\u001b[43m]\u001b[49m\u001b[43m,\u001b[49m\u001b[43m \u001b[49m\u001b[43my_pred\u001b[49m\u001b[43m[\u001b[49m\u001b[43mwindow_size\u001b[49m\u001b[43m:\u001b[49m\u001b[43m]\u001b[49m\u001b[43m,\u001b[49m\u001b[43m \u001b[49m\u001b[43mlabel\u001b[49m\u001b[38;5;241;43m=\u001b[39;49m\u001b[38;5;124;43m'\u001b[39;49m\u001b[38;5;124;43mPredicted\u001b[39;49m\u001b[38;5;124;43m'\u001b[39;49m\u001b[43m)\u001b[49m\n\u001b[0;32m      9\u001b[0m plt\u001b[38;5;241m.\u001b[39mlegend()\n\u001b[0;32m     10\u001b[0m plt\u001b[38;5;241m.\u001b[39mxlabel(\u001b[38;5;124m'\u001b[39m\u001b[38;5;124mDate\u001b[39m\u001b[38;5;124m'\u001b[39m)\n",
      "File \u001b[1;32mC:\\ProgramData\\Anaconda3\\lib\\site-packages\\matplotlib\\pyplot.py:2757\u001b[0m, in \u001b[0;36mplot\u001b[1;34m(scalex, scaley, data, *args, **kwargs)\u001b[0m\n\u001b[0;32m   2755\u001b[0m \u001b[38;5;129m@_copy_docstring_and_deprecators\u001b[39m(Axes\u001b[38;5;241m.\u001b[39mplot)\n\u001b[0;32m   2756\u001b[0m \u001b[38;5;28;01mdef\u001b[39;00m \u001b[38;5;21mplot\u001b[39m(\u001b[38;5;241m*\u001b[39margs, scalex\u001b[38;5;241m=\u001b[39m\u001b[38;5;28;01mTrue\u001b[39;00m, scaley\u001b[38;5;241m=\u001b[39m\u001b[38;5;28;01mTrue\u001b[39;00m, data\u001b[38;5;241m=\u001b[39m\u001b[38;5;28;01mNone\u001b[39;00m, \u001b[38;5;241m*\u001b[39m\u001b[38;5;241m*\u001b[39mkwargs):\n\u001b[1;32m-> 2757\u001b[0m     \u001b[38;5;28;01mreturn\u001b[39;00m gca()\u001b[38;5;241m.\u001b[39mplot(\n\u001b[0;32m   2758\u001b[0m         \u001b[38;5;241m*\u001b[39margs, scalex\u001b[38;5;241m=\u001b[39mscalex, scaley\u001b[38;5;241m=\u001b[39mscaley,\n\u001b[0;32m   2759\u001b[0m         \u001b[38;5;241m*\u001b[39m\u001b[38;5;241m*\u001b[39m({\u001b[38;5;124m\"\u001b[39m\u001b[38;5;124mdata\u001b[39m\u001b[38;5;124m\"\u001b[39m: data} \u001b[38;5;28;01mif\u001b[39;00m data \u001b[38;5;129;01mis\u001b[39;00m \u001b[38;5;129;01mnot\u001b[39;00m \u001b[38;5;28;01mNone\u001b[39;00m \u001b[38;5;28;01melse\u001b[39;00m {}), \u001b[38;5;241m*\u001b[39m\u001b[38;5;241m*\u001b[39mkwargs)\n",
      "File \u001b[1;32mC:\\ProgramData\\Anaconda3\\lib\\site-packages\\matplotlib\\axes\\_axes.py:1632\u001b[0m, in \u001b[0;36mAxes.plot\u001b[1;34m(self, scalex, scaley, data, *args, **kwargs)\u001b[0m\n\u001b[0;32m   1390\u001b[0m \u001b[38;5;124;03m\"\"\"\u001b[39;00m\n\u001b[0;32m   1391\u001b[0m \u001b[38;5;124;03mPlot y versus x as lines and/or markers.\u001b[39;00m\n\u001b[0;32m   1392\u001b[0m \n\u001b[1;32m   (...)\u001b[0m\n\u001b[0;32m   1629\u001b[0m \u001b[38;5;124;03m(``'green'``) or hex strings (``'#008000'``).\u001b[39;00m\n\u001b[0;32m   1630\u001b[0m \u001b[38;5;124;03m\"\"\"\u001b[39;00m\n\u001b[0;32m   1631\u001b[0m kwargs \u001b[38;5;241m=\u001b[39m cbook\u001b[38;5;241m.\u001b[39mnormalize_kwargs(kwargs, mlines\u001b[38;5;241m.\u001b[39mLine2D)\n\u001b[1;32m-> 1632\u001b[0m lines \u001b[38;5;241m=\u001b[39m [\u001b[38;5;241m*\u001b[39m\u001b[38;5;28mself\u001b[39m\u001b[38;5;241m.\u001b[39m_get_lines(\u001b[38;5;241m*\u001b[39margs, data\u001b[38;5;241m=\u001b[39mdata, \u001b[38;5;241m*\u001b[39m\u001b[38;5;241m*\u001b[39mkwargs)]\n\u001b[0;32m   1633\u001b[0m \u001b[38;5;28;01mfor\u001b[39;00m line \u001b[38;5;129;01min\u001b[39;00m lines:\n\u001b[0;32m   1634\u001b[0m     \u001b[38;5;28mself\u001b[39m\u001b[38;5;241m.\u001b[39madd_line(line)\n",
      "File \u001b[1;32mC:\\ProgramData\\Anaconda3\\lib\\site-packages\\matplotlib\\axes\\_base.py:312\u001b[0m, in \u001b[0;36m_process_plot_var_args.__call__\u001b[1;34m(self, data, *args, **kwargs)\u001b[0m\n\u001b[0;32m    310\u001b[0m     this \u001b[38;5;241m+\u001b[39m\u001b[38;5;241m=\u001b[39m args[\u001b[38;5;241m0\u001b[39m],\n\u001b[0;32m    311\u001b[0m     args \u001b[38;5;241m=\u001b[39m args[\u001b[38;5;241m1\u001b[39m:]\n\u001b[1;32m--> 312\u001b[0m \u001b[38;5;28;01myield from\u001b[39;00m \u001b[38;5;28;43mself\u001b[39;49m\u001b[38;5;241;43m.\u001b[39;49m\u001b[43m_plot_args\u001b[49m\u001b[43m(\u001b[49m\u001b[43mthis\u001b[49m\u001b[43m,\u001b[49m\u001b[43m \u001b[49m\u001b[43mkwargs\u001b[49m\u001b[43m)\u001b[49m\n",
      "File \u001b[1;32mC:\\ProgramData\\Anaconda3\\lib\\site-packages\\matplotlib\\axes\\_base.py:498\u001b[0m, in \u001b[0;36m_process_plot_var_args._plot_args\u001b[1;34m(self, tup, kwargs, return_kwargs)\u001b[0m\n\u001b[0;32m    495\u001b[0m     \u001b[38;5;28mself\u001b[39m\u001b[38;5;241m.\u001b[39maxes\u001b[38;5;241m.\u001b[39myaxis\u001b[38;5;241m.\u001b[39mupdate_units(y)\n\u001b[0;32m    497\u001b[0m \u001b[38;5;28;01mif\u001b[39;00m x\u001b[38;5;241m.\u001b[39mshape[\u001b[38;5;241m0\u001b[39m] \u001b[38;5;241m!=\u001b[39m y\u001b[38;5;241m.\u001b[39mshape[\u001b[38;5;241m0\u001b[39m]:\n\u001b[1;32m--> 498\u001b[0m     \u001b[38;5;28;01mraise\u001b[39;00m \u001b[38;5;167;01mValueError\u001b[39;00m(\u001b[38;5;124mf\u001b[39m\u001b[38;5;124m\"\u001b[39m\u001b[38;5;124mx and y must have same first dimension, but \u001b[39m\u001b[38;5;124m\"\u001b[39m\n\u001b[0;32m    499\u001b[0m                      \u001b[38;5;124mf\u001b[39m\u001b[38;5;124m\"\u001b[39m\u001b[38;5;124mhave shapes \u001b[39m\u001b[38;5;132;01m{\u001b[39;00mx\u001b[38;5;241m.\u001b[39mshape\u001b[38;5;132;01m}\u001b[39;00m\u001b[38;5;124m and \u001b[39m\u001b[38;5;132;01m{\u001b[39;00my\u001b[38;5;241m.\u001b[39mshape\u001b[38;5;132;01m}\u001b[39;00m\u001b[38;5;124m\"\u001b[39m)\n\u001b[0;32m    500\u001b[0m \u001b[38;5;28;01mif\u001b[39;00m x\u001b[38;5;241m.\u001b[39mndim \u001b[38;5;241m>\u001b[39m \u001b[38;5;241m2\u001b[39m \u001b[38;5;129;01mor\u001b[39;00m y\u001b[38;5;241m.\u001b[39mndim \u001b[38;5;241m>\u001b[39m \u001b[38;5;241m2\u001b[39m:\n\u001b[0;32m    501\u001b[0m     \u001b[38;5;28;01mraise\u001b[39;00m \u001b[38;5;167;01mValueError\u001b[39;00m(\u001b[38;5;124mf\u001b[39m\u001b[38;5;124m\"\u001b[39m\u001b[38;5;124mx and y can be no greater than 2D, but have \u001b[39m\u001b[38;5;124m\"\u001b[39m\n\u001b[0;32m    502\u001b[0m                      \u001b[38;5;124mf\u001b[39m\u001b[38;5;124m\"\u001b[39m\u001b[38;5;124mshapes \u001b[39m\u001b[38;5;132;01m{\u001b[39;00mx\u001b[38;5;241m.\u001b[39mshape\u001b[38;5;132;01m}\u001b[39;00m\u001b[38;5;124m and \u001b[39m\u001b[38;5;132;01m{\u001b[39;00my\u001b[38;5;241m.\u001b[39mshape\u001b[38;5;132;01m}\u001b[39;00m\u001b[38;5;124m\"\u001b[39m)\n",
      "\u001b[1;31mValueError\u001b[0m: x and y must have same first dimension, but have shapes (1465,) and (1462, 1)"
     ]
    },
    {
     "data": {
      "image/png": "[encoded data removed]",
      "text/plain": [
       "<Figure size 1080x576 with 1 Axes>"
      ]
     },
     "metadata": {},
     "output_type": "display_data"
    }
   ],
   "source": [
    "import matplotlib.pyplot as plt\n",
    "\n",
    "# Generate predictions on test data\n",
    "test_pred = model.predict(test_X)\n",
    "\n",
    "# Plot actual vs predicted values for test data\n",
    "plt.plot(test.index[window_size:], test['Value'][window_size:], label='Actual')\n",
    "plt.plot(test.index[window_size:], y_pred, label='Predicted')\n",
    "plt.legend()\n",
    "plt.xlabel('Date')\n",
    "plt.ylabel('Value')\n",
    "plt.show()\n"
   ]
  },
  {
   "cell_type": "code",
   "execution_count": 40,
   "id": "4e5969cd",
   "metadata": {},
   "outputs": [
    {
     "data": {
      "text/html": [
       "<div>\n",
       "<style scoped>\n",
       "    .dataframe tbody tr th:only-of-type {\n",
       "        vertical-align: middle;\n",
       "    }\n",
       "\n",
       "    .dataframe tbody tr th {\n",
       "        vertical-align: top;\n",
       "    }\n",
       "\n",
       "    .dataframe thead th {\n",
       "        text-align: right;\n",
       "    }\n",
       "</style>\n",
       "<table border=\"1\" class=\"dataframe\">\n",
       "  <thead>\n",
       "    <tr style=\"text-align: right;\">\n",
       "      <th></th>\n",
       "      <th>Value</th>\n",
       "    </tr>\n",
       "    <tr>\n",
       "      <th>Year</th>\n",
       "      <th></th>\n",
       "    </tr>\n",
       "  </thead>\n",
       "  <tbody>\n",
       "    <tr>\n",
       "      <th>1961-01-01</th>\n",
       "      <td>229500.0</td>\n",
       "    </tr>\n",
       "    <tr>\n",
       "      <th>1961-01-01</th>\n",
       "      <td>923024.0</td>\n",
       "    </tr>\n",
       "    <tr>\n",
       "      <th>1961-01-01</th>\n",
       "      <td>8997400.0</td>\n",
       "    </tr>\n",
       "    <tr>\n",
       "      <th>1961-01-01</th>\n",
       "      <td>19000.0</td>\n",
       "    </tr>\n",
       "    <tr>\n",
       "      <th>1961-01-01</th>\n",
       "      <td>1931.0</td>\n",
       "    </tr>\n",
       "    <tr>\n",
       "      <th>...</th>\n",
       "      <td>...</td>\n",
       "    </tr>\n",
       "    <tr>\n",
       "      <th>2021-01-01</th>\n",
       "      <td>0.0</td>\n",
       "    </tr>\n",
       "    <tr>\n",
       "      <th>2021-01-01</th>\n",
       "      <td>0.0</td>\n",
       "    </tr>\n",
       "    <tr>\n",
       "      <th>2021-01-01</th>\n",
       "      <td>263749.0</td>\n",
       "    </tr>\n",
       "    <tr>\n",
       "      <th>2021-01-01</th>\n",
       "      <td>1000000.0</td>\n",
       "    </tr>\n",
       "    <tr>\n",
       "      <th>2021-01-01</th>\n",
       "      <td>2908.0</td>\n",
       "    </tr>\n",
       "  </tbody>\n",
       "</table>\n",
       "<p>1468 rows × 1 columns</p>\n",
       "</div>"
      ],
      "text/plain": [
       "                Value\n",
       "Year                 \n",
       "1961-01-01   229500.0\n",
       "1961-01-01   923024.0\n",
       "1961-01-01  8997400.0\n",
       "1961-01-01    19000.0\n",
       "1961-01-01     1931.0\n",
       "...               ...\n",
       "2021-01-01        0.0\n",
       "2021-01-01        0.0\n",
       "2021-01-01   263749.0\n",
       "2021-01-01  1000000.0\n",
       "2021-01-01     2908.0\n",
       "\n",
       "[1468 rows x 1 columns]"
      ]
     },
     "execution_count": 40,
     "metadata": {},
     "output_type": "execute_result"
    }
   ],
   "source": [
    "test.sort_index()"
   ]
  },
  {
   "cell_type": "code",
   "execution_count": 44,
   "id": "4ba500d4",
   "metadata": {},
   "outputs": [
    {
     "name": "stderr",
     "output_type": "stream",
     "text": [
      "C:\\Users\\ashwi\\AppData\\Local\\Temp\\ipykernel_23140\\3148760216.py:4: SettingWithCopyWarning: \n",
      "A value is trying to be set on a copy of a slice from a DataFrame.\n",
      "Try using .loc[row_indexer,col_indexer] = value instead\n",
      "\n",
      "See the caveats in the documentation: https://pandas.pydata.org/pandas-docs/stable/user_guide/indexing.html#returning-a-view-versus-a-copy\n",
      "  t1.Value = scale.fit_transform(t1.Value.values.reshape(-1,1))\n"
     ]
    }
   ],
   "source": [
    "from sklearn.preprocessing import StandardScaler\n",
    "scale = StandardScaler()\n",
    "t1 = test\n",
    "t1.Value = scale.fit_transform(t1.Value.values.reshape(-1,1))"
   ]
  },
  {
   "cell_type": "code",
   "execution_count": 45,
   "id": "ecffc620",
   "metadata": {},
   "outputs": [
    {
     "data": {
      "text/html": [
       "<div>\n",
       "<style scoped>\n",
       "    .dataframe tbody tr th:only-of-type {\n",
       "        vertical-align: middle;\n",
       "    }\n",
       "\n",
       "    .dataframe tbody tr th {\n",
       "        vertical-align: top;\n",
       "    }\n",
       "\n",
       "    .dataframe thead th {\n",
       "        text-align: right;\n",
       "    }\n",
       "</style>\n",
       "<table border=\"1\" class=\"dataframe\">\n",
       "  <thead>\n",
       "    <tr style=\"text-align: right;\">\n",
       "      <th></th>\n",
       "      <th>Value</th>\n",
       "    </tr>\n",
       "    <tr>\n",
       "      <th>Year</th>\n",
       "      <th></th>\n",
       "    </tr>\n",
       "  </thead>\n",
       "  <tbody>\n",
       "    <tr>\n",
       "      <th>1961-01-01</th>\n",
       "      <td>-0.320907</td>\n",
       "    </tr>\n",
       "    <tr>\n",
       "      <th>1961-01-01</th>\n",
       "      <td>-0.223620</td>\n",
       "    </tr>\n",
       "    <tr>\n",
       "      <th>1961-01-01</th>\n",
       "      <td>0.909056</td>\n",
       "    </tr>\n",
       "    <tr>\n",
       "      <th>1961-01-01</th>\n",
       "      <td>-0.350436</td>\n",
       "    </tr>\n",
       "    <tr>\n",
       "      <th>1961-01-01</th>\n",
       "      <td>-0.352831</td>\n",
       "    </tr>\n",
       "    <tr>\n",
       "      <th>...</th>\n",
       "      <td>...</td>\n",
       "    </tr>\n",
       "    <tr>\n",
       "      <th>2021-01-01</th>\n",
       "      <td>-0.353102</td>\n",
       "    </tr>\n",
       "    <tr>\n",
       "      <th>2021-01-01</th>\n",
       "      <td>-0.353102</td>\n",
       "    </tr>\n",
       "    <tr>\n",
       "      <th>2021-01-01</th>\n",
       "      <td>-0.316103</td>\n",
       "    </tr>\n",
       "    <tr>\n",
       "      <th>2021-01-01</th>\n",
       "      <td>-0.212821</td>\n",
       "    </tr>\n",
       "    <tr>\n",
       "      <th>2021-01-01</th>\n",
       "      <td>-0.352694</td>\n",
       "    </tr>\n",
       "  </tbody>\n",
       "</table>\n",
       "<p>1468 rows × 1 columns</p>\n",
       "</div>"
      ],
      "text/plain": [
       "               Value\n",
       "Year                \n",
       "1961-01-01 -0.320907\n",
       "1961-01-01 -0.223620\n",
       "1961-01-01  0.909056\n",
       "1961-01-01 -0.350436\n",
       "1961-01-01 -0.352831\n",
       "...              ...\n",
       "2021-01-01 -0.353102\n",
       "2021-01-01 -0.353102\n",
       "2021-01-01 -0.316103\n",
       "2021-01-01 -0.212821\n",
       "2021-01-01 -0.352694\n",
       "\n",
       "[1468 rows x 1 columns]"
      ]
     },
     "execution_count": 45,
     "metadata": {},
     "output_type": "execute_result"
    }
   ],
   "source": [
    "t1.sort_index()"
   ]
  },
  {
   "cell_type": "code",
   "execution_count": 46,
   "id": "71dfbe61",
   "metadata": {
    "scrolled": false
   },
   "outputs": [
    {
     "data": {
      "image/png": "[encoded data removed]",
      "text/plain": [
       "<Figure size 1080x576 with 1 Axes>"
      ]
     },
     "metadata": {},
     "output_type": "display_data"
    }
   ],
   "source": [
    "# Plot predictions and actual values\n",
    "import matplotlib.pyplot as plt\n",
    "\n",
    "\n",
    "figs=plt.figure(figsize=(15,8))\n",
    "ax1 = figs.add_axes([1, 1, 1, 1])\n",
    "#ax1=plt.plot(train,label='train data')\n",
    "ax1=plt.plot(t1.sort_index(),color='green',label='original data')\n",
    "ax1=plt.plot(y_pred, color='red',label='prediction')\n",
    "plt.legend()\n",
    "plt.show()"
   ]
  },
  {
   "cell_type": "code",
   "execution_count": 49,
   "id": "70c7becc",
   "metadata": {},
   "outputs": [
    {
     "data": {
      "text/html": [
       "<div>\n",
       "<style scoped>\n",
       "    .dataframe tbody tr th:only-of-type {\n",
       "        vertical-align: middle;\n",
       "    }\n",
       "\n",
       "    .dataframe tbody tr th {\n",
       "        vertical-align: top;\n",
       "    }\n",
       "\n",
       "    .dataframe thead th {\n",
       "        text-align: right;\n",
       "    }\n",
       "</style>\n",
       "<table border=\"1\" class=\"dataframe\">\n",
       "  <thead>\n",
       "    <tr style=\"text-align: right;\">\n",
       "      <th></th>\n",
       "      <th>Value</th>\n",
       "    </tr>\n",
       "    <tr>\n",
       "      <th>Year</th>\n",
       "      <th></th>\n",
       "    </tr>\n",
       "  </thead>\n",
       "  <tbody>\n",
       "    <tr>\n",
       "      <th>1961-12-31</th>\n",
       "      <td>2.494167e+06</td>\n",
       "    </tr>\n",
       "    <tr>\n",
       "      <th>1962-12-31</th>\n",
       "      <td>2.680106e+06</td>\n",
       "    </tr>\n",
       "    <tr>\n",
       "      <th>1963-12-31</th>\n",
       "      <td>2.968427e+06</td>\n",
       "    </tr>\n",
       "    <tr>\n",
       "      <th>1964-12-31</th>\n",
       "      <td>3.170752e+06</td>\n",
       "    </tr>\n",
       "    <tr>\n",
       "      <th>1965-12-31</th>\n",
       "      <td>3.134230e+06</td>\n",
       "    </tr>\n",
       "    <tr>\n",
       "      <th>...</th>\n",
       "      <td>...</td>\n",
       "    </tr>\n",
       "    <tr>\n",
       "      <th>2017-12-31</th>\n",
       "      <td>7.663097e+06</td>\n",
       "    </tr>\n",
       "    <tr>\n",
       "      <th>2018-12-31</th>\n",
       "      <td>6.771557e+06</td>\n",
       "    </tr>\n",
       "    <tr>\n",
       "      <th>2019-12-31</th>\n",
       "      <td>6.699247e+06</td>\n",
       "    </tr>\n",
       "    <tr>\n",
       "      <th>2020-12-31</th>\n",
       "      <td>6.825269e+06</td>\n",
       "    </tr>\n",
       "    <tr>\n",
       "      <th>2021-12-31</th>\n",
       "      <td>6.956234e+06</td>\n",
       "    </tr>\n",
       "  </tbody>\n",
       "</table>\n",
       "<p>61 rows × 1 columns</p>\n",
       "</div>"
      ],
      "text/plain": [
       "                   Value\n",
       "Year                    \n",
       "1961-12-31  2.494167e+06\n",
       "1962-12-31  2.680106e+06\n",
       "1963-12-31  2.968427e+06\n",
       "1964-12-31  3.170752e+06\n",
       "1965-12-31  3.134230e+06\n",
       "...                  ...\n",
       "2017-12-31  7.663097e+06\n",
       "2018-12-31  6.771557e+06\n",
       "2019-12-31  6.699247e+06\n",
       "2020-12-31  6.825269e+06\n",
       "2021-12-31  6.956234e+06\n",
       "\n",
       "[61 rows x 1 columns]"
      ]
     },
     "execution_count": 49,
     "metadata": {},
     "output_type": "execute_result"
    }
   ],
   "source": [
    "df = df.resample('A').mean()\n",
    "df"
   ]
  },
  {
   "cell_type": "markdown",
   "id": "11f7e72d",
   "metadata": {},
   "source": [
    "# SARIMA"
   ]
  },
  {
   "cell_type": "code",
   "execution_count": 50,
   "id": "579856ce",
   "metadata": {},
   "outputs": [],
   "source": [
    "#importing libraries\n",
    "from sklearn.metrics import mean_squared_error\n",
    "import math\n",
    "from statsmodels.graphics.tsaplots import plot_pacf\n",
    "from statsmodels.graphics.tsaplots import plot_acf\n",
    "from statsmodels.tsa.statespace.sarimax import SARIMAX\n",
    "from statsmodels.tsa.holtwinters import ExponentialSmoothing\n",
    "from statsmodels.tsa.stattools import adfuller\n",
    "import matplotlib.pyplot as plt\n",
    "from tqdm import tqdm_notebook\n",
    "import numpy as np\n",
    "import pandas as pd\n",
    "from itertools import product\n",
    "import warnings\n",
    "warnings.filterwarnings('ignore')"
   ]
  },
  {
   "cell_type": "code",
   "execution_count": 74,
   "id": "83f3bcf5",
   "metadata": {},
   "outputs": [
    {
     "name": "stdout",
     "output_type": "stream",
     "text": [
      "ADF Statistic: -2.285195040875315\n",
      "p-value: 0.176787332251283\n"
     ]
    }
   ],
   "source": [
    "# Ad fulller test\n",
    "ad_fuller_result = adfuller(new['y'])\n",
    "print(f'ADF Statistic: {ad_fuller_result[0]}')\n",
    "print(f'p-value: {ad_fuller_result[1]}')"
   ]
  },
  {
   "cell_type": "code",
   "execution_count": 52,
   "id": "22daaea8",
   "metadata": {},
   "outputs": [],
   "source": [
    "# Hyperparamter optimisation\n",
    "def optimize_SARIMA(parameters_list, d, D, s, exog):\n",
    "    \"\"\"\n",
    "        Return dataframe with parameters, corresponding AIC and SSE\n",
    "        \n",
    "        parameters_list - list with (p, q, P, Q) tuples\n",
    "        d - integration order\n",
    "        D - seasonal integration order\n",
    "        s - length of season\n",
    "        exog - the exogenous variable\n",
    "    \"\"\"\n",
    "    \n",
    "    results = []\n",
    "    \n",
    "    for param in tqdm_notebook(parameters_list):\n",
    "        try: \n",
    "            model = SARIMAX(exog, order=(param[0], d, param[1]), seasonal_order=(param[2], D, param[3], s)).fit(disp=-1)\n",
    "        except:\n",
    "            continue\n",
    "            \n",
    "        aic = model.aic\n",
    "        results.append([param, aic])\n",
    "        \n",
    "    result_df = pd.DataFrame(results)\n",
    "    result_df.columns = ['(p,q)x(P,Q)', 'AIC']\n",
    "    #Sort in ascending order, lower AIC is better\n",
    "    result_df = result_df.sort_values(by='AIC', ascending=True).reset_index(drop=True)\n",
    "    \n",
    "    return result_df"
   ]
  },
  {
   "cell_type": "code",
   "execution_count": 53,
   "id": "5762371d",
   "metadata": {},
   "outputs": [
    {
     "name": "stdout",
     "output_type": "stream",
     "text": [
      "256\n"
     ]
    }
   ],
   "source": [
    "# Number of parameters\n",
    "p = range(0, 4, 1)\n",
    "d = 1\n",
    "q = range(0, 4, 1)\n",
    "P = range(0, 4, 1)\n",
    "D = 1\n",
    "Q = range(0, 4, 1)\n",
    "s = 4\n",
    "parameters = product(p, q, P, Q)\n",
    "parameters_list = list(parameters)\n",
    "print(len(parameters_list))"
   ]
  },
  {
   "cell_type": "code",
   "execution_count": 54,
   "id": "cc65da73",
   "metadata": {},
   "outputs": [
    {
     "data": {
      "application/vnd.jupyter.widget-view+json": {
       "model_id": "66fe4fe904594639b0fe20431748a158",
       "version_major": 2,
       "version_minor": 0
      },
      "text/plain": [
       "  0%|          | 0/256 [00:00<?, ?it/s]"
      ]
     },
     "metadata": {},
     "output_type": "display_data"
    },
    {
     "data": {
      "text/html": [
       "<div>\n",
       "<style scoped>\n",
       "    .dataframe tbody tr th:only-of-type {\n",
       "        vertical-align: middle;\n",
       "    }\n",
       "\n",
       "    .dataframe tbody tr th {\n",
       "        vertical-align: top;\n",
       "    }\n",
       "\n",
       "    .dataframe thead th {\n",
       "        text-align: right;\n",
       "    }\n",
       "</style>\n",
       "<table border=\"1\" class=\"dataframe\">\n",
       "  <thead>\n",
       "    <tr style=\"text-align: right;\">\n",
       "      <th></th>\n",
       "      <th>(p,q)x(P,Q)</th>\n",
       "      <th>AIC</th>\n",
       "    </tr>\n",
       "  </thead>\n",
       "  <tbody>\n",
       "    <tr>\n",
       "      <th>0</th>\n",
       "      <td>(3, 3, 3, 1)</td>\n",
       "      <td>22.000000</td>\n",
       "    </tr>\n",
       "    <tr>\n",
       "      <th>1</th>\n",
       "      <td>(0, 0, 2, 1)</td>\n",
       "      <td>1543.466373</td>\n",
       "    </tr>\n",
       "    <tr>\n",
       "      <th>2</th>\n",
       "      <td>(0, 0, 1, 1)</td>\n",
       "      <td>1543.484752</td>\n",
       "    </tr>\n",
       "    <tr>\n",
       "      <th>3</th>\n",
       "      <td>(0, 0, 3, 0)</td>\n",
       "      <td>1544.000003</td>\n",
       "    </tr>\n",
       "    <tr>\n",
       "      <th>4</th>\n",
       "      <td>(0, 0, 2, 2)</td>\n",
       "      <td>1544.713248</td>\n",
       "    </tr>\n",
       "    <tr>\n",
       "      <th>...</th>\n",
       "      <td>...</td>\n",
       "      <td>...</td>\n",
       "    </tr>\n",
       "    <tr>\n",
       "      <th>251</th>\n",
       "      <td>(3, 3, 3, 3)</td>\n",
       "      <td>1558.690224</td>\n",
       "    </tr>\n",
       "    <tr>\n",
       "      <th>252</th>\n",
       "      <td>(1, 3, 3, 3)</td>\n",
       "      <td>1558.705779</td>\n",
       "    </tr>\n",
       "    <tr>\n",
       "      <th>253</th>\n",
       "      <td>(0, 3, 0, 0)</td>\n",
       "      <td>1558.817442</td>\n",
       "    </tr>\n",
       "    <tr>\n",
       "      <th>254</th>\n",
       "      <td>(3, 2, 3, 3)</td>\n",
       "      <td>1559.101148</td>\n",
       "    </tr>\n",
       "    <tr>\n",
       "      <th>255</th>\n",
       "      <td>(2, 3, 3, 3)</td>\n",
       "      <td>1559.979902</td>\n",
       "    </tr>\n",
       "  </tbody>\n",
       "</table>\n",
       "<p>256 rows × 2 columns</p>\n",
       "</div>"
      ],
      "text/plain": [
       "      (p,q)x(P,Q)          AIC\n",
       "0    (3, 3, 3, 1)    22.000000\n",
       "1    (0, 0, 2, 1)  1543.466373\n",
       "2    (0, 0, 1, 1)  1543.484752\n",
       "3    (0, 0, 3, 0)  1544.000003\n",
       "4    (0, 0, 2, 2)  1544.713248\n",
       "..            ...          ...\n",
       "251  (3, 3, 3, 3)  1558.690224\n",
       "252  (1, 3, 3, 3)  1558.705779\n",
       "253  (0, 3, 0, 0)  1558.817442\n",
       "254  (3, 2, 3, 3)  1559.101148\n",
       "255  (2, 3, 3, 3)  1559.979902\n",
       "\n",
       "[256 rows x 2 columns]"
      ]
     },
     "execution_count": 54,
     "metadata": {},
     "output_type": "execute_result"
    }
   ],
   "source": [
    "# Hyper Parameter Optimisation\n",
    "result_df = optimize_SARIMA(parameters_list, 1, 1, 4, df['Value'])\n",
    "result_df\n",
    "#find param with least AIC"
   ]
  },
  {
   "cell_type": "code",
   "execution_count": 75,
   "id": "f07b64a1",
   "metadata": {},
   "outputs": [
    {
     "name": "stdout",
     "output_type": "stream",
     "text": [
      "                               SARIMAX Results                                \n",
      "==============================================================================\n",
      "Dep. Variable:                      y   No. Observations:                   61\n",
      "Model:               SARIMAX(1, 0, 0)   Log Likelihood                -835.998\n",
      "Date:                Fri, 07 Apr 2023   AIC                           1675.997\n",
      "Time:                        15:33:54   BIC                           1680.219\n",
      "Sample:                    12-31-1961   HQIC                          1677.651\n",
      "                         - 12-31-2021                                         \n",
      "Covariance Type:                  opg                                         \n",
      "==============================================================================\n",
      "                 coef    std err          z      P>|z|      [0.025      0.975]\n",
      "------------------------------------------------------------------------------\n",
      "ar.L1          0.9993      0.002    598.499      0.000       0.996       1.003\n",
      "sigma2      3.867e+10   1.53e-16   2.52e+26      0.000    3.87e+10    3.87e+10\n",
      "===================================================================================\n",
      "Ljung-Box (L1) (Q):                   1.34   Jarque-Bera (JB):               245.82\n",
      "Prob(Q):                              0.25   Prob(JB):                         0.00\n",
      "Heteroskedasticity (H):               2.17   Skew:                            -2.16\n",
      "Prob(H) (two-sided):                  0.09   Kurtosis:                        11.83\n",
      "===================================================================================\n",
      "\n",
      "Warnings:\n",
      "[1] Covariance matrix calculated using the outer product of gradients (complex-step).\n",
      "[2] Covariance matrix is singular or near-singular, with condition number 1.3e+42. Standard errors may be unstable.\n"
     ]
    }
   ],
   "source": [
    "# Fitting the model\n",
    "best_model = SARIMAX(new['y']).fit(dis=-1)\n",
    "print(best_model.summary())"
   ]
  },
  {
   "cell_type": "code",
   "execution_count": 76,
   "id": "52b39904",
   "metadata": {},
   "outputs": [
    {
     "data": {
      "image/png": "[encoded data removed]",
      "text/plain": [
       "<Figure size 1080x864 with 4 Axes>"
      ]
     },
     "metadata": {
      "needs_background": "light"
     },
     "output_type": "display_data"
    }
   ],
   "source": [
    "# Model Diagnostics\n",
    "best_model.plot_diagnostics(figsize=(15,12));"
   ]
  },
  {
   "cell_type": "code",
   "execution_count": 79,
   "id": "fd617f8b",
   "metadata": {},
   "outputs": [
    {
     "data": {
      "text/html": [
       "<div>\n",
       "<style scoped>\n",
       "    .dataframe tbody tr th:only-of-type {\n",
       "        vertical-align: middle;\n",
       "    }\n",
       "\n",
       "    .dataframe tbody tr th {\n",
       "        vertical-align: top;\n",
       "    }\n",
       "\n",
       "    .dataframe thead th {\n",
       "        text-align: right;\n",
       "    }\n",
       "</style>\n",
       "<table border=\"1\" class=\"dataframe\">\n",
       "  <thead>\n",
       "    <tr style=\"text-align: right;\">\n",
       "      <th></th>\n",
       "      <th>y</th>\n",
       "      <th>ds</th>\n",
       "      <th>arima_model</th>\n",
       "    </tr>\n",
       "    <tr>\n",
       "      <th>ds</th>\n",
       "      <th></th>\n",
       "      <th></th>\n",
       "      <th></th>\n",
       "    </tr>\n",
       "  </thead>\n",
       "  <tbody>\n",
       "    <tr>\n",
       "      <th>1961-12-31</th>\n",
       "      <td>2.494167e+06</td>\n",
       "      <td>1961-12-31</td>\n",
       "      <td>NaN</td>\n",
       "    </tr>\n",
       "    <tr>\n",
       "      <th>1962-12-31</th>\n",
       "      <td>2.680106e+06</td>\n",
       "      <td>1962-12-31</td>\n",
       "      <td>NaN</td>\n",
       "    </tr>\n",
       "    <tr>\n",
       "      <th>1963-12-31</th>\n",
       "      <td>2.968427e+06</td>\n",
       "      <td>1963-12-31</td>\n",
       "      <td>NaN</td>\n",
       "    </tr>\n",
       "    <tr>\n",
       "      <th>1964-12-31</th>\n",
       "      <td>3.170752e+06</td>\n",
       "      <td>1964-12-31</td>\n",
       "      <td>NaN</td>\n",
       "    </tr>\n",
       "    <tr>\n",
       "      <th>1965-12-31</th>\n",
       "      <td>3.134230e+06</td>\n",
       "      <td>1965-12-31</td>\n",
       "      <td>NaN</td>\n",
       "    </tr>\n",
       "    <tr>\n",
       "      <th>...</th>\n",
       "      <td>...</td>\n",
       "      <td>...</td>\n",
       "      <td>...</td>\n",
       "    </tr>\n",
       "    <tr>\n",
       "      <th>2017-12-31</th>\n",
       "      <td>7.663097e+06</td>\n",
       "      <td>2017-12-31</td>\n",
       "      <td>7.532504e+06</td>\n",
       "    </tr>\n",
       "    <tr>\n",
       "      <th>2018-12-31</th>\n",
       "      <td>6.771557e+06</td>\n",
       "      <td>2018-12-31</td>\n",
       "      <td>7.657646e+06</td>\n",
       "    </tr>\n",
       "    <tr>\n",
       "      <th>2019-12-31</th>\n",
       "      <td>6.699247e+06</td>\n",
       "      <td>2019-12-31</td>\n",
       "      <td>6.766741e+06</td>\n",
       "    </tr>\n",
       "    <tr>\n",
       "      <th>2020-12-31</th>\n",
       "      <td>6.825269e+06</td>\n",
       "      <td>2020-12-31</td>\n",
       "      <td>6.694482e+06</td>\n",
       "    </tr>\n",
       "    <tr>\n",
       "      <th>2021-12-31</th>\n",
       "      <td>6.956234e+06</td>\n",
       "      <td>2021-12-31</td>\n",
       "      <td>6.820414e+06</td>\n",
       "    </tr>\n",
       "  </tbody>\n",
       "</table>\n",
       "<p>61 rows × 3 columns</p>\n",
       "</div>"
      ],
      "text/plain": [
       "                       y         ds   arima_model\n",
       "ds                                               \n",
       "1961-12-31  2.494167e+06 1961-12-31           NaN\n",
       "1962-12-31  2.680106e+06 1962-12-31           NaN\n",
       "1963-12-31  2.968427e+06 1963-12-31           NaN\n",
       "1964-12-31  3.170752e+06 1964-12-31           NaN\n",
       "1965-12-31  3.134230e+06 1965-12-31           NaN\n",
       "...                  ...        ...           ...\n",
       "2017-12-31  7.663097e+06 2017-12-31  7.532504e+06\n",
       "2018-12-31  6.771557e+06 2018-12-31  7.657646e+06\n",
       "2019-12-31  6.699247e+06 2019-12-31  6.766741e+06\n",
       "2020-12-31  6.825269e+06 2020-12-31  6.694482e+06\n",
       "2021-12-31  6.956234e+06 2021-12-31  6.820414e+06\n",
       "\n",
       "[61 rows x 3 columns]"
      ]
     },
     "execution_count": 79,
     "metadata": {},
     "output_type": "execute_result"
    }
   ],
   "source": [
    "new"
   ]
  },
  {
   "cell_type": "code",
   "execution_count": 85,
   "id": "90908189",
   "metadata": {},
   "outputs": [
    {
     "data": {
      "text/html": [
       "<div>\n",
       "<style scoped>\n",
       "    .dataframe tbody tr th:only-of-type {\n",
       "        vertical-align: middle;\n",
       "    }\n",
       "\n",
       "    .dataframe tbody tr th {\n",
       "        vertical-align: top;\n",
       "    }\n",
       "\n",
       "    .dataframe thead th {\n",
       "        text-align: right;\n",
       "    }\n",
       "</style>\n",
       "<table border=\"1\" class=\"dataframe\">\n",
       "  <thead>\n",
       "    <tr style=\"text-align: right;\">\n",
       "      <th></th>\n",
       "      <th>y</th>\n",
       "      <th>ds</th>\n",
       "      <th>arima_model</th>\n",
       "    </tr>\n",
       "    <tr>\n",
       "      <th>ds</th>\n",
       "      <th></th>\n",
       "      <th></th>\n",
       "      <th></th>\n",
       "    </tr>\n",
       "  </thead>\n",
       "  <tbody>\n",
       "    <tr>\n",
       "      <th>1961-12-31</th>\n",
       "      <td>2.494167e+06</td>\n",
       "      <td>1961-12-31</td>\n",
       "      <td>NaN</td>\n",
       "    </tr>\n",
       "    <tr>\n",
       "      <th>1962-12-31</th>\n",
       "      <td>2.680106e+06</td>\n",
       "      <td>1962-12-31</td>\n",
       "      <td>NaN</td>\n",
       "    </tr>\n",
       "    <tr>\n",
       "      <th>1963-12-31</th>\n",
       "      <td>2.968427e+06</td>\n",
       "      <td>1963-12-31</td>\n",
       "      <td>NaN</td>\n",
       "    </tr>\n",
       "    <tr>\n",
       "      <th>1964-12-31</th>\n",
       "      <td>3.170752e+06</td>\n",
       "      <td>1964-12-31</td>\n",
       "      <td>NaN</td>\n",
       "    </tr>\n",
       "    <tr>\n",
       "      <th>1965-12-31</th>\n",
       "      <td>3.134230e+06</td>\n",
       "      <td>1965-12-31</td>\n",
       "      <td>NaN</td>\n",
       "    </tr>\n",
       "    <tr>\n",
       "      <th>...</th>\n",
       "      <td>...</td>\n",
       "      <td>...</td>\n",
       "      <td>...</td>\n",
       "    </tr>\n",
       "    <tr>\n",
       "      <th>2017-12-31</th>\n",
       "      <td>7.663097e+06</td>\n",
       "      <td>2017-12-31</td>\n",
       "      <td>7.532504e+06</td>\n",
       "    </tr>\n",
       "    <tr>\n",
       "      <th>2018-12-31</th>\n",
       "      <td>6.771557e+06</td>\n",
       "      <td>2018-12-31</td>\n",
       "      <td>7.657646e+06</td>\n",
       "    </tr>\n",
       "    <tr>\n",
       "      <th>2019-12-31</th>\n",
       "      <td>6.699247e+06</td>\n",
       "      <td>2019-12-31</td>\n",
       "      <td>6.766741e+06</td>\n",
       "    </tr>\n",
       "    <tr>\n",
       "      <th>2020-12-31</th>\n",
       "      <td>6.825269e+06</td>\n",
       "      <td>2020-12-31</td>\n",
       "      <td>6.694482e+06</td>\n",
       "    </tr>\n",
       "    <tr>\n",
       "      <th>2021-12-31</th>\n",
       "      <td>6.956234e+06</td>\n",
       "      <td>2021-12-31</td>\n",
       "      <td>6.820414e+06</td>\n",
       "    </tr>\n",
       "  </tbody>\n",
       "</table>\n",
       "<p>61 rows × 3 columns</p>\n",
       "</div>"
      ],
      "text/plain": [
       "                       y         ds   arima_model\n",
       "ds                                               \n",
       "1961-12-31  2.494167e+06 1961-12-31           NaN\n",
       "1962-12-31  2.680106e+06 1962-12-31           NaN\n",
       "1963-12-31  2.968427e+06 1963-12-31           NaN\n",
       "1964-12-31  3.170752e+06 1964-12-31           NaN\n",
       "1965-12-31  3.134230e+06 1965-12-31           NaN\n",
       "...                  ...        ...           ...\n",
       "2017-12-31  7.663097e+06 2017-12-31  7.532504e+06\n",
       "2018-12-31  6.771557e+06 2018-12-31  7.657646e+06\n",
       "2019-12-31  6.699247e+06 2019-12-31  6.766741e+06\n",
       "2020-12-31  6.825269e+06 2020-12-31  6.694482e+06\n",
       "2021-12-31  6.956234e+06 2021-12-31  6.820414e+06\n",
       "\n",
       "[61 rows x 3 columns]"
      ]
     },
     "execution_count": 85,
     "metadata": {},
     "output_type": "execute_result"
    }
   ],
   "source": [
    "#df['Year']=pd.to_datetime(df['Year'].astype('str'))\n",
    "new"
   ]
  },
  {
   "cell_type": "code",
   "execution_count": 87,
   "id": "5c2c297d",
   "metadata": {},
   "outputs": [
    {
     "data": {
      "image/png": "[encoded data removed]",
      "text/plain": [
       "<Figure size 1080x540 with 1 Axes>"
      ]
     },
     "metadata": {
      "needs_background": "light"
     },
     "output_type": "display_data"
    }
   ],
   "source": [
    "# Plot \n",
    "new['arima_model'] = best_model.fittedvalues\n",
    "new['arima_model'][:4+1] = np.NaN\n",
    "forecast = best_model.predict(start=new.shape[0], end=new.shape[0] + 8)\n",
    "forecast = new['arima_model'].append(forecast)\n",
    "plt.figure(figsize=(15, 7.5))\n",
    "plt.plot(forecast, color='r', label='model')\n",
    "plt.axvspan(new.index[-1], forecast.index[-1], alpha=0.5, color='lightgrey')\n",
    "plt.plot(new['y'], label='actual')\n",
    "plt.legend()\n",
    "plt.show()"
   ]
  },
  {
   "cell_type": "markdown",
   "id": "ef0dfc4d",
   "metadata": {},
   "source": [
    "# SARIMA evaluation"
   ]
  },
  {
   "cell_type": "code",
   "execution_count": 90,
   "id": "dd684f69",
   "metadata": {},
   "outputs": [
    {
     "name": "stdout",
     "output_type": "stream",
     "text": [
      "MAE: 154642.12903513826\n"
     ]
    }
   ],
   "source": [
    "# Mean Absolute Error\n",
    "from sklearn.metrics import mean_absolute_error\n",
    "\n",
    "# Generate predictions on test data\n",
    "y_pred = pd.DataFrame(best_model.predict('1961-12-31'))\n",
    "\n",
    "# Calculate root mean squared error\n",
    "mae = mean_absolute_error(new['y'][1:], y_pred.predicted_mean[1:])\n",
    "print('MAE:', mae)\n"
   ]
  },
  {
   "cell_type": "code",
   "execution_count": 93,
   "id": "fcc72e66",
   "metadata": {},
   "outputs": [
    {
     "name": "stdout",
     "output_type": "stream",
     "text": [
      "0.9774621310341118\n"
     ]
    }
   ],
   "source": [
    "# R2_score\n",
    "from sklearn.metrics import r2_score\n",
    "r2 = r2_score(new['y'][1:], y_pred.predicted_mean[1:])\n",
    "print(r2)"
   ]
  },
  {
   "cell_type": "markdown",
   "id": "cf697313",
   "metadata": {},
   "source": [
    "# Saving Model"
   ]
  },
  {
   "cell_type": "code",
   "execution_count": 123,
   "id": "76dfd1ac",
   "metadata": {},
   "outputs": [],
   "source": [
    "import pickle as pkl"
   ]
  },
  {
   "cell_type": "code",
   "execution_count": 124,
   "id": "fdc4e618",
   "metadata": {},
   "outputs": [],
   "source": [
    "pkl.dump(best_model, open('sarima.pkl', 'wb'))"
   ]
  },
  {
   "cell_type": "markdown",
   "id": "7e97783a",
   "metadata": {},
   "source": [
    "# Model inference"
   ]
  },
  {
   "cell_type": "code",
   "execution_count": 147,
   "id": "3d2cbf5f",
   "metadata": {},
   "outputs": [
    {
     "name": "stdout",
     "output_type": "stream",
     "text": [
      "2023-12-31    6.946342e+06\n",
      "Freq: A-DEC, dtype: float64\n"
     ]
    }
   ],
   "source": [
    "import pickle as pkl\n",
    "loaded_model = pkl.load(open('sarima.pkl', 'rb'))\n",
    "\n",
    "print(loaded_model.predict('2023'))"
   ]
  },
  {
   "cell_type": "code",
   "execution_count": 150,
   "id": "d1bd5977",
   "metadata": {},
   "outputs": [
    {
     "data": {
      "text/plain": [
       "6946341.896362813"
      ]
     },
     "execution_count": 150,
     "metadata": {},
     "output_type": "execute_result"
    }
   ],
   "source": [
    "loaded_model.predict('2023')[0]"
   ]
  },
  {
   "cell_type": "markdown",
   "id": "7add2858",
   "metadata": {},
   "source": [
    "###### SARIMA model predicts till next 300 years from the starting year of traiing data i.e. till 2261 as our data has initial year as 1961"
   ]
  }
 ],
 "metadata": {
  "kernelspec": {
   "display_name": "Python 3 (ipykernel)",
   "language": "python",
   "name": "python3"
  },
  "language_info": {
   "codemirror_mode": {
    "name": "ipython",
    "version": 3
   },
   "file_extension": ".py",
   "mimetype": "text/x-python",
   "name": "python",
   "nbconvert_exporter": "python",
   "pygments_lexer": "ipython3",
   "version": "3.9.12"
  }
 },
 "nbformat": 4,
 "nbformat_minor": 5
}
